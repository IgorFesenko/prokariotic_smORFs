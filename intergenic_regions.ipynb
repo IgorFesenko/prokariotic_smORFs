{
 "cells": [
  {
   "cell_type": "markdown",
   "id": "2a99ed16",
   "metadata": {},
   "source": [
    "# The analysis of intergenic sequences"
   ]
  },
  {
   "cell_type": "code",
   "execution_count": 1,
   "id": "698ffd6f",
   "metadata": {},
   "outputs": [],
   "source": [
    "import pandas as pd\n",
    "import numpy as np"
   ]
  },
  {
   "cell_type": "markdown",
   "id": "05928dc9",
   "metadata": {},
   "source": [
    "## Load tables"
   ]
  },
  {
   "cell_type": "markdown",
   "id": "1d0ab000",
   "metadata": {},
   "source": [
    "### erwinia"
   ]
  },
  {
   "cell_type": "code",
   "execution_count": 2,
   "id": "eb14525d",
   "metadata": {},
   "outputs": [],
   "source": [
    "erwinia_igs = pd.read_csv(r'../raw_data/Erwinia_igs_combined.fa.gz.csv', compression='gzip')"
   ]
  },
  {
   "cell_type": "code",
   "execution_count": 4,
   "id": "b048bda3",
   "metadata": {},
   "outputs": [],
   "source": [
    "erwinia_igs['Length'] = erwinia_igs['Sequence'].map(lambda x: len(x))"
   ]
  },
  {
   "cell_type": "code",
   "execution_count": 5,
   "id": "bd47b6d0",
   "metadata": {},
   "outputs": [
    {
     "data": {
      "text/html": [
       "<div>\n",
       "<style scoped>\n",
       "    .dataframe tbody tr th:only-of-type {\n",
       "        vertical-align: middle;\n",
       "    }\n",
       "\n",
       "    .dataframe tbody tr th {\n",
       "        vertical-align: top;\n",
       "    }\n",
       "\n",
       "    .dataframe thead th {\n",
       "        text-align: right;\n",
       "    }\n",
       "</style>\n",
       "<table border=\"1\" class=\"dataframe\">\n",
       "  <thead>\n",
       "    <tr style=\"text-align: right;\">\n",
       "      <th></th>\n",
       "      <th>ID</th>\n",
       "      <th>Sequence</th>\n",
       "      <th>Description</th>\n",
       "      <th>Length</th>\n",
       "    </tr>\n",
       "  </thead>\n",
       "  <tbody>\n",
       "    <tr>\n",
       "      <th>0</th>\n",
       "      <td>gene::NC_010694.1:440-655</td>\n",
       "      <td>TAATCTGATCCCAGTGTGATGATGGCGGGCATTGTACGCTGTGATC...</td>\n",
       "      <td>gene::NC_010694.1:440-655</td>\n",
       "      <td>215</td>\n",
       "    </tr>\n",
       "    <tr>\n",
       "      <th>1</th>\n",
       "      <td>gene::NC_010694.1:1115-1234</td>\n",
       "      <td>TAGTGGTTCCGTTATTATCGGATATTCAGTTGGGGTGCGGTTAATG...</td>\n",
       "      <td>gene::NC_010694.1:1115-1234</td>\n",
       "      <td>119</td>\n",
       "    </tr>\n",
       "    <tr>\n",
       "      <th>2</th>\n",
       "      <td>gene::NC_010694.1:3392-3457</td>\n",
       "      <td>TTGGCTAAAGCGTATATATCACTATAGCAAATAAGCTTTTCAGCAC...</td>\n",
       "      <td>gene::NC_010694.1:3392-3457</td>\n",
       "      <td>65</td>\n",
       "    </tr>\n",
       "    <tr>\n",
       "      <th>3</th>\n",
       "      <td>gene::NC_010694.1:6406-6666</td>\n",
       "      <td>TAATCAAACATTCATCCTTTTCTACGGTCAGGCCAGCATCGTTGGC...</td>\n",
       "      <td>gene::NC_010694.1:6406-6666</td>\n",
       "      <td>260</td>\n",
       "    </tr>\n",
       "    <tr>\n",
       "      <th>4</th>\n",
       "      <td>gene::NC_010694.1:8533-8670</td>\n",
       "      <td>GCCGATGGGAAAATGATATTTCTTATCCGCCAACCCGGTTTTCTCA...</td>\n",
       "      <td>gene::NC_010694.1:8533-8670</td>\n",
       "      <td>137</td>\n",
       "    </tr>\n",
       "  </tbody>\n",
       "</table>\n",
       "</div>"
      ],
      "text/plain": [
       "                            ID  \\\n",
       "0    gene::NC_010694.1:440-655   \n",
       "1  gene::NC_010694.1:1115-1234   \n",
       "2  gene::NC_010694.1:3392-3457   \n",
       "3  gene::NC_010694.1:6406-6666   \n",
       "4  gene::NC_010694.1:8533-8670   \n",
       "\n",
       "                                            Sequence  \\\n",
       "0  TAATCTGATCCCAGTGTGATGATGGCGGGCATTGTACGCTGTGATC...   \n",
       "1  TAGTGGTTCCGTTATTATCGGATATTCAGTTGGGGTGCGGTTAATG...   \n",
       "2  TTGGCTAAAGCGTATATATCACTATAGCAAATAAGCTTTTCAGCAC...   \n",
       "3  TAATCAAACATTCATCCTTTTCTACGGTCAGGCCAGCATCGTTGGC...   \n",
       "4  GCCGATGGGAAAATGATATTTCTTATCCGCCAACCCGGTTTTCTCA...   \n",
       "\n",
       "                   Description  Length  \n",
       "0    gene::NC_010694.1:440-655     215  \n",
       "1  gene::NC_010694.1:1115-1234     119  \n",
       "2  gene::NC_010694.1:3392-3457      65  \n",
       "3  gene::NC_010694.1:6406-6666     260  \n",
       "4  gene::NC_010694.1:8533-8670     137  "
      ]
     },
     "execution_count": 5,
     "metadata": {},
     "output_type": "execute_result"
    }
   ],
   "source": [
    "erwinia_igs.head()"
   ]
  },
  {
   "cell_type": "markdown",
   "id": "37ed0806",
   "metadata": {},
   "source": [
    "### cronobacter"
   ]
  },
  {
   "cell_type": "code",
   "execution_count": 8,
   "id": "94286d24",
   "metadata": {},
   "outputs": [],
   "source": [
    "crono_igs = pd.read_csv(r'../raw_data/Cronobacter_igs_combined.fa.gz.csv', compression='gzip')"
   ]
  },
  {
   "cell_type": "code",
   "execution_count": 9,
   "id": "fe2daa85",
   "metadata": {},
   "outputs": [],
   "source": [
    "crono_igs['Length'] = crono_igs['Sequence'].map(lambda x: len(x))"
   ]
  },
  {
   "cell_type": "code",
   "execution_count": 10,
   "id": "e9b227f4",
   "metadata": {},
   "outputs": [
    {
     "data": {
      "text/html": [
       "<div>\n",
       "<style scoped>\n",
       "    .dataframe tbody tr th:only-of-type {\n",
       "        vertical-align: middle;\n",
       "    }\n",
       "\n",
       "    .dataframe tbody tr th {\n",
       "        vertical-align: top;\n",
       "    }\n",
       "\n",
       "    .dataframe thead th {\n",
       "        text-align: right;\n",
       "    }\n",
       "</style>\n",
       "<table border=\"1\" class=\"dataframe\">\n",
       "  <thead>\n",
       "    <tr style=\"text-align: right;\">\n",
       "      <th></th>\n",
       "      <th>ID</th>\n",
       "      <th>Sequence</th>\n",
       "      <th>Description</th>\n",
       "      <th>Length</th>\n",
       "    </tr>\n",
       "  </thead>\n",
       "  <tbody>\n",
       "    <tr>\n",
       "      <th>0</th>\n",
       "      <td>FN543093.2:1906-1964</td>\n",
       "      <td>AGTTAAAACGCGCTTCGGGCCAGCCTTGTCTGGCCCTTTTTATATG...</td>\n",
       "      <td>FN543093.2:1906-1964</td>\n",
       "      <td>58</td>\n",
       "    </tr>\n",
       "    <tr>\n",
       "      <th>1</th>\n",
       "      <td>FN543093.2:2586-3199</td>\n",
       "      <td>ATATTTATCAAAAAAAGTAGAAATAAGGGGCGGGCCTTTCGCATGG...</td>\n",
       "      <td>FN543093.2:2586-3199</td>\n",
       "      <td>613</td>\n",
       "    </tr>\n",
       "    <tr>\n",
       "      <th>2</th>\n",
       "      <td>FN543093.2:4405-4457</td>\n",
       "      <td>ATTTTTTACTCAACACTACTGCGTTTTAACTGAAACAAACTGGAGA...</td>\n",
       "      <td>FN543093.2:4405-4457</td>\n",
       "      <td>52</td>\n",
       "    </tr>\n",
       "    <tr>\n",
       "      <th>3</th>\n",
       "      <td>FN543093.2:4695-4761</td>\n",
       "      <td>GTAAACGAAGTTGTCTGAATTTCCAGACAATATCAGAACATTAACC...</td>\n",
       "      <td>FN543093.2:4695-4761</td>\n",
       "      <td>66</td>\n",
       "    </tr>\n",
       "    <tr>\n",
       "      <th>4</th>\n",
       "      <td>FN543093.2:7332-7384</td>\n",
       "      <td>ACGTCTGGCGGCTTGCTGTAAGGCAAGCCGCAAGGCATTGAGGAGA...</td>\n",
       "      <td>FN543093.2:7332-7384</td>\n",
       "      <td>52</td>\n",
       "    </tr>\n",
       "  </tbody>\n",
       "</table>\n",
       "</div>"
      ],
      "text/plain": [
       "                     ID                                           Sequence  \\\n",
       "0  FN543093.2:1906-1964  AGTTAAAACGCGCTTCGGGCCAGCCTTGTCTGGCCCTTTTTATATG...   \n",
       "1  FN543093.2:2586-3199  ATATTTATCAAAAAAAGTAGAAATAAGGGGCGGGCCTTTCGCATGG...   \n",
       "2  FN543093.2:4405-4457  ATTTTTTACTCAACACTACTGCGTTTTAACTGAAACAAACTGGAGA...   \n",
       "3  FN543093.2:4695-4761  GTAAACGAAGTTGTCTGAATTTCCAGACAATATCAGAACATTAACC...   \n",
       "4  FN543093.2:7332-7384  ACGTCTGGCGGCTTGCTGTAAGGCAAGCCGCAAGGCATTGAGGAGA...   \n",
       "\n",
       "            Description  Length  \n",
       "0  FN543093.2:1906-1964      58  \n",
       "1  FN543093.2:2586-3199     613  \n",
       "2  FN543093.2:4405-4457      52  \n",
       "3  FN543093.2:4695-4761      66  \n",
       "4  FN543093.2:7332-7384      52  "
      ]
     },
     "execution_count": 10,
     "metadata": {},
     "output_type": "execute_result"
    }
   ],
   "source": [
    "crono_igs.head()"
   ]
  },
  {
   "cell_type": "raw",
   "id": "4bb36b12",
   "metadata": {},
   "source": []
  },
  {
   "cell_type": "markdown",
   "id": "6072d9e8",
   "metadata": {},
   "source": [
    "### yersinia"
   ]
  },
  {
   "cell_type": "code",
   "execution_count": 11,
   "id": "d1575b87",
   "metadata": {},
   "outputs": [],
   "source": [
    "yersinia_igs = pd.read_csv(r'../raw_data/Yersinia_igs_combined.fa.gz.csv', compression='gzip')"
   ]
  },
  {
   "cell_type": "code",
   "execution_count": 12,
   "id": "cec7e2bc",
   "metadata": {},
   "outputs": [],
   "source": [
    "yersinia_igs['Length'] = yersinia_igs['Sequence'].map(lambda x: len(x))"
   ]
  },
  {
   "cell_type": "code",
   "execution_count": 13,
   "id": "f9538242",
   "metadata": {},
   "outputs": [
    {
     "data": {
      "text/html": [
       "<div>\n",
       "<style scoped>\n",
       "    .dataframe tbody tr th:only-of-type {\n",
       "        vertical-align: middle;\n",
       "    }\n",
       "\n",
       "    .dataframe tbody tr th {\n",
       "        vertical-align: top;\n",
       "    }\n",
       "\n",
       "    .dataframe thead th {\n",
       "        text-align: right;\n",
       "    }\n",
       "</style>\n",
       "<table border=\"1\" class=\"dataframe\">\n",
       "  <thead>\n",
       "    <tr style=\"text-align: right;\">\n",
       "      <th></th>\n",
       "      <th>ID</th>\n",
       "      <th>Sequence</th>\n",
       "      <th>Description</th>\n",
       "      <th>Length</th>\n",
       "    </tr>\n",
       "  </thead>\n",
       "  <tbody>\n",
       "    <tr>\n",
       "      <th>0</th>\n",
       "      <td>CP020409.2:684-1289</td>\n",
       "      <td>ATATAGACTTTATTAAAAACAACAATGGCTCAGCTATTATTGAGTT...</td>\n",
       "      <td>CP020409.2:684-1289</td>\n",
       "      <td>605</td>\n",
       "    </tr>\n",
       "    <tr>\n",
       "      <th>1</th>\n",
       "      <td>CP020409.2:2827-2868</td>\n",
       "      <td>ATATCAGGCGCGGCGGCAACAACCGCGCCTGTATTGCATAC</td>\n",
       "      <td>CP020409.2:2827-2868</td>\n",
       "      <td>41</td>\n",
       "    </tr>\n",
       "    <tr>\n",
       "      <th>2</th>\n",
       "      <td>CP020409.2:4330-4765</td>\n",
       "      <td>TATCAATTTAAGGACGAAATCAGTTGCCGATCATATCAAACAAATT...</td>\n",
       "      <td>CP020409.2:4330-4765</td>\n",
       "      <td>435</td>\n",
       "    </tr>\n",
       "    <tr>\n",
       "      <th>3</th>\n",
       "      <td>CP020409.2:5975-6182</td>\n",
       "      <td>ATGGTTTTGAACGATGTGATCTGTTAATGCGCGGTAACAATATCTG...</td>\n",
       "      <td>CP020409.2:5975-6182</td>\n",
       "      <td>207</td>\n",
       "    </tr>\n",
       "    <tr>\n",
       "      <th>4</th>\n",
       "      <td>CP020409.2:6843-6928</td>\n",
       "      <td>GCCATGTGTTTTCAGTGTTACTCATGCAGTTAACCGGCGCTTACAG...</td>\n",
       "      <td>CP020409.2:6843-6928</td>\n",
       "      <td>85</td>\n",
       "    </tr>\n",
       "  </tbody>\n",
       "</table>\n",
       "</div>"
      ],
      "text/plain": [
       "                     ID                                           Sequence  \\\n",
       "0   CP020409.2:684-1289  ATATAGACTTTATTAAAAACAACAATGGCTCAGCTATTATTGAGTT...   \n",
       "1  CP020409.2:2827-2868          ATATCAGGCGCGGCGGCAACAACCGCGCCTGTATTGCATAC   \n",
       "2  CP020409.2:4330-4765  TATCAATTTAAGGACGAAATCAGTTGCCGATCATATCAAACAAATT...   \n",
       "3  CP020409.2:5975-6182  ATGGTTTTGAACGATGTGATCTGTTAATGCGCGGTAACAATATCTG...   \n",
       "4  CP020409.2:6843-6928  GCCATGTGTTTTCAGTGTTACTCATGCAGTTAACCGGCGCTTACAG...   \n",
       "\n",
       "            Description  Length  \n",
       "0   CP020409.2:684-1289     605  \n",
       "1  CP020409.2:2827-2868      41  \n",
       "2  CP020409.2:4330-4765     435  \n",
       "3  CP020409.2:5975-6182     207  \n",
       "4  CP020409.2:6843-6928      85  "
      ]
     },
     "execution_count": 13,
     "metadata": {},
     "output_type": "execute_result"
    }
   ],
   "source": [
    "yersinia_igs.head()"
   ]
  },
  {
   "cell_type": "raw",
   "id": "884edaab",
   "metadata": {},
   "source": []
  },
  {
   "cell_type": "markdown",
   "id": "44c7b1f6",
   "metadata": {},
   "source": [
    "## Visualisation"
   ]
  },
  {
   "cell_type": "code",
   "execution_count": 16,
   "id": "f778bc21",
   "metadata": {},
   "outputs": [],
   "source": [
    "import pandas as pd\n",
    "import numpy as np\n",
    "import seaborn as sns\n",
    "from matplotlib import pyplot as plt"
   ]
  },
  {
   "cell_type": "code",
   "execution_count": 23,
   "id": "9383bfa6",
   "metadata": {},
   "outputs": [],
   "source": [
    "pallette = [\"#cc2936\", \"#6b818c\", \"#08415c\",\"#cc2936\",\"#6b818c\",\"#f1bf98\",\"#eee5e9\"]"
   ]
  },
  {
   "cell_type": "code",
   "execution_count": 27,
   "id": "de636353",
   "metadata": {},
   "outputs": [
    {
     "data": {
      "image/png": "[encoded data removed]",
      "text/plain": [
       "<Figure size 432x288 with 1 Axes>"
      ]
     },
     "metadata": {},
     "output_type": "display_data"
    }
   ],
   "source": [
    "plt.figure(figsize=(6,4))\n",
    "sns.set(style='whitegrid', font_scale=1.5)\n",
    "sns.boxplot(data=[erwinia_igs['Length'], crono_igs['Length'], yersinia_igs['Length']], \n",
    "            showfliers=False, linewidth=3, palette=pallette)\n",
    "plt.xticks(np.arange(3), labels=['Erwinia sp.', 'Cronobacter sp.', 'Yersinia sp.'], rotation=45)\n",
    "plt.rcParams[\"font.weight\"] = \"bold\"\n",
    "plt.ylabel('Length, nt')\n",
    "plt.title('The length of itergenic regions', fontsize=24)\n",
    "plt.savefig('../images/igs_ercroy.jpg', dpi=300, bbox_inches='tight');"
   ]
  },
  {
   "cell_type": "code",
   "execution_count": null,
   "id": "ca021980",
   "metadata": {},
   "outputs": [],
   "source": []
  }
 ],
 "metadata": {
  "kernelspec": {
   "display_name": "Python 3 (ipykernel)",
   "language": "python",
   "name": "python3"
  },
  "language_info": {
   "codemirror_mode": {
    "name": "ipython",
    "version": 3
   },
   "file_extension": ".py",
   "mimetype": "text/x-python",
   "name": "python",
   "nbconvert_exporter": "python",
   "pygments_lexer": "ipython3",
   "version": "3.7.7"
  },
  "toc": {
   "base_numbering": 1,
   "nav_menu": {},
   "number_sections": true,
   "sideBar": true,
   "skip_h1_title": false,
   "title_cell": "Table of Contents",
   "title_sidebar": "Contents",
   "toc_cell": false,
   "toc_position": {},
   "toc_section_display": true,
   "toc_window_display": true
  }
 },
 "nbformat": 4,
 "nbformat_minor": 5
}
