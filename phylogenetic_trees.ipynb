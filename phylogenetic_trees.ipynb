{
 "cells": [
  {
   "cell_type": "markdown",
   "id": "2a278052",
   "metadata": {},
   "source": [
    "# Create Trees"
   ]
  },
  {
   "cell_type": "code",
   "execution_count": 34,
   "id": "b822386f",
   "metadata": {},
   "outputs": [],
   "source": [
    "import toytree       # a tree plotting library\n",
    "import toyplot       # a general plotting library\n",
    "import numpy as np   # numerical library\n",
    "import toyplot.svg\n",
    "import pandas as pd"
   ]
  },
  {
   "cell_type": "raw",
   "id": "7e472e96",
   "metadata": {},
   "source": []
  },
  {
   "cell_type": "markdown",
   "id": "cc32bbd1",
   "metadata": {},
   "source": [
    "## Erwinia"
   ]
  },
  {
   "cell_type": "markdown",
   "id": "944ad47f",
   "metadata": {},
   "source": [
    "### Load data"
   ]
  },
  {
   "cell_type": "code",
   "execution_count": 50,
   "id": "ffc14965",
   "metadata": {},
   "outputs": [],
   "source": [
    "erwinia = toytree.tree(r'../raw_data/erwinia.tree')"
   ]
  },
  {
   "cell_type": "markdown",
   "id": "b0c5750b",
   "metadata": {},
   "source": [
    "### Modify names"
   ]
  },
  {
   "cell_type": "code",
   "execution_count": 37,
   "id": "326dac34",
   "metadata": {},
   "outputs": [],
   "source": [
    "list_tips = erwinia.get_tip_labels()"
   ]
  },
  {
   "cell_type": "code",
   "execution_count": 35,
   "id": "e531f2c7",
   "metadata": {},
   "outputs": [],
   "source": [
    "table = pd.read_excel(r'../raw_data/table_species.xlsx')"
   ]
  },
  {
   "cell_type": "code",
   "execution_count": 36,
   "id": "ee3cfe54",
   "metadata": {},
   "outputs": [
    {
     "data": {
      "text/html": [
       "<div>\n",
       "<style scoped>\n",
       "    .dataframe tbody tr th:only-of-type {\n",
       "        vertical-align: middle;\n",
       "    }\n",
       "\n",
       "    .dataframe tbody tr th {\n",
       "        vertical-align: top;\n",
       "    }\n",
       "\n",
       "    .dataframe thead th {\n",
       "        text-align: right;\n",
       "    }\n",
       "</style>\n",
       "<table border=\"1\" class=\"dataframe\">\n",
       "  <thead>\n",
       "    <tr style=\"text-align: right;\">\n",
       "      <th></th>\n",
       "      <th>ID</th>\n",
       "      <th>Strain</th>\n",
       "      <th>Species</th>\n",
       "      <th>Genus</th>\n",
       "    </tr>\n",
       "  </thead>\n",
       "  <tbody>\n",
       "    <tr>\n",
       "      <th>0</th>\n",
       "      <td>GCF_016865525.2</td>\n",
       "      <td>Sodalis_dw_23</td>\n",
       "      <td>Sodalis_dw</td>\n",
       "      <td>Sodalis</td>\n",
       "    </tr>\n",
       "    <tr>\n",
       "      <th>1</th>\n",
       "      <td>GCF_004295645.1</td>\n",
       "      <td>Jinshanibacter_zhutongyuii_CF-458</td>\n",
       "      <td>Jinshanibacter_zhutongyuii</td>\n",
       "      <td>Jinshanibacter</td>\n",
       "    </tr>\n",
       "    <tr>\n",
       "      <th>2</th>\n",
       "      <td>GCF_900478135.1</td>\n",
       "      <td>Leminorella_richardii_NCTC12151</td>\n",
       "      <td>Leminorella_richardii</td>\n",
       "      <td>Leminorella</td>\n",
       "    </tr>\n",
       "    <tr>\n",
       "      <th>3</th>\n",
       "      <td>GCF_902386615.1</td>\n",
       "      <td>Leminorella_richardii</td>\n",
       "      <td>Leminorella_richardii</td>\n",
       "      <td>Leminorella</td>\n",
       "    </tr>\n",
       "    <tr>\n",
       "      <th>4</th>\n",
       "      <td>GCF_003096015.2</td>\n",
       "      <td>Limnobaculum_parvum_HYN0051</td>\n",
       "      <td>Limnobaculum_parvum</td>\n",
       "      <td>Limnobaculum</td>\n",
       "    </tr>\n",
       "  </tbody>\n",
       "</table>\n",
       "</div>"
      ],
      "text/plain": [
       "                ID                             Strain  \\\n",
       "0  GCF_016865525.2                      Sodalis_dw_23   \n",
       "1  GCF_004295645.1  Jinshanibacter_zhutongyuii_CF-458   \n",
       "2  GCF_900478135.1    Leminorella_richardii_NCTC12151   \n",
       "3  GCF_902386615.1              Leminorella_richardii   \n",
       "4  GCF_003096015.2        Limnobaculum_parvum_HYN0051   \n",
       "\n",
       "                      Species           Genus  \n",
       "0                  Sodalis_dw         Sodalis  \n",
       "1  Jinshanibacter_zhutongyuii  Jinshanibacter  \n",
       "2       Leminorella_richardii     Leminorella  \n",
       "3       Leminorella_richardii     Leminorella  \n",
       "4         Limnobaculum_parvum    Limnobaculum  "
      ]
     },
     "execution_count": 36,
     "metadata": {},
     "output_type": "execute_result"
    }
   ],
   "source": [
    "table.head()"
   ]
  },
  {
   "cell_type": "code",
   "execution_count": 51,
   "id": "4bf17e6c",
   "metadata": {},
   "outputs": [],
   "source": [
    "erw_df = pd.DataFrame({\"ID\":list_tips})"
   ]
  },
  {
   "cell_type": "code",
   "execution_count": 52,
   "id": "32aa9ed8",
   "metadata": {},
   "outputs": [
    {
     "data": {
      "text/html": [
       "<div>\n",
       "<style scoped>\n",
       "    .dataframe tbody tr th:only-of-type {\n",
       "        vertical-align: middle;\n",
       "    }\n",
       "\n",
       "    .dataframe tbody tr th {\n",
       "        vertical-align: top;\n",
       "    }\n",
       "\n",
       "    .dataframe thead th {\n",
       "        text-align: right;\n",
       "    }\n",
       "</style>\n",
       "<table border=\"1\" class=\"dataframe\">\n",
       "  <thead>\n",
       "    <tr style=\"text-align: right;\">\n",
       "      <th></th>\n",
       "      <th>ID</th>\n",
       "    </tr>\n",
       "  </thead>\n",
       "  <tbody>\n",
       "    <tr>\n",
       "      <th>0</th>\n",
       "      <td>GCF_002803865.1</td>\n",
       "    </tr>\n",
       "    <tr>\n",
       "      <th>1</th>\n",
       "      <td>GCF_000027205.1</td>\n",
       "    </tr>\n",
       "    <tr>\n",
       "      <th>2</th>\n",
       "      <td>GCF_017161545.1</td>\n",
       "    </tr>\n",
       "    <tr>\n",
       "      <th>3</th>\n",
       "      <td>GCF_013375015.1</td>\n",
       "    </tr>\n",
       "    <tr>\n",
       "      <th>4</th>\n",
       "      <td>GCF_012980845.1</td>\n",
       "    </tr>\n",
       "  </tbody>\n",
       "</table>\n",
       "</div>"
      ],
      "text/plain": [
       "                ID\n",
       "0  GCF_002803865.1\n",
       "1  GCF_000027205.1\n",
       "2  GCF_017161545.1\n",
       "3  GCF_013375015.1\n",
       "4  GCF_012980845.1"
      ]
     },
     "execution_count": 52,
     "metadata": {},
     "output_type": "execute_result"
    }
   ],
   "source": [
    "erw_df.head()"
   ]
  },
  {
   "cell_type": "code",
   "execution_count": 53,
   "id": "f40c0c7e",
   "metadata": {},
   "outputs": [],
   "source": [
    "merged_df_erw = erw_df.merge(table[['ID','Strain']], on='ID', how='left')"
   ]
  },
  {
   "cell_type": "code",
   "execution_count": 55,
   "id": "26fd94e9",
   "metadata": {},
   "outputs": [
    {
     "data": {
      "text/html": [
       "<div>\n",
       "<style scoped>\n",
       "    .dataframe tbody tr th:only-of-type {\n",
       "        vertical-align: middle;\n",
       "    }\n",
       "\n",
       "    .dataframe tbody tr th {\n",
       "        vertical-align: top;\n",
       "    }\n",
       "\n",
       "    .dataframe thead th {\n",
       "        text-align: right;\n",
       "    }\n",
       "</style>\n",
       "<table border=\"1\" class=\"dataframe\">\n",
       "  <thead>\n",
       "    <tr style=\"text-align: right;\">\n",
       "      <th></th>\n",
       "      <th>ID</th>\n",
       "      <th>Strain</th>\n",
       "    </tr>\n",
       "  </thead>\n",
       "  <tbody>\n",
       "    <tr>\n",
       "      <th>0</th>\n",
       "      <td>GCF_002803865.1</td>\n",
       "      <td>Erwinia_amylovora_E-2</td>\n",
       "    </tr>\n",
       "    <tr>\n",
       "      <th>1</th>\n",
       "      <td>GCF_000027205.1</td>\n",
       "      <td>Erwinia_amylovora_ATCC_49946</td>\n",
       "    </tr>\n",
       "    <tr>\n",
       "      <th>2</th>\n",
       "      <td>GCF_017161545.1</td>\n",
       "      <td>Erwinia_amylovora_17-2187</td>\n",
       "    </tr>\n",
       "    <tr>\n",
       "      <th>3</th>\n",
       "      <td>GCF_013375015.1</td>\n",
       "      <td>Erwinia_amylovora_TS3128</td>\n",
       "    </tr>\n",
       "    <tr>\n",
       "      <th>4</th>\n",
       "      <td>GCF_012980845.1</td>\n",
       "      <td>Erwinia_amylovora_FB-207</td>\n",
       "    </tr>\n",
       "    <tr>\n",
       "      <th>5</th>\n",
       "      <td>GCF_012980825.1</td>\n",
       "      <td>Erwinia_amylovora_TS3238</td>\n",
       "    </tr>\n",
       "    <tr>\n",
       "      <th>6</th>\n",
       "      <td>GCF_012980805.1</td>\n",
       "      <td>Erwinia_amylovora_FB-307</td>\n",
       "    </tr>\n",
       "  </tbody>\n",
       "</table>\n",
       "</div>"
      ],
      "text/plain": [
       "                ID                        Strain\n",
       "0  GCF_002803865.1         Erwinia_amylovora_E-2\n",
       "1  GCF_000027205.1  Erwinia_amylovora_ATCC_49946\n",
       "2  GCF_017161545.1     Erwinia_amylovora_17-2187\n",
       "3  GCF_013375015.1      Erwinia_amylovora_TS3128\n",
       "4  GCF_012980845.1      Erwinia_amylovora_FB-207\n",
       "5  GCF_012980825.1      Erwinia_amylovora_TS3238\n",
       "6  GCF_012980805.1      Erwinia_amylovora_FB-307"
      ]
     },
     "execution_count": 55,
     "metadata": {},
     "output_type": "execute_result"
    }
   ],
   "source": [
    "merged_df_erw.head(7)"
   ]
  },
  {
   "cell_type": "code",
   "execution_count": 57,
   "id": "08d9f6b3",
   "metadata": {},
   "outputs": [],
   "source": [
    "tip_names_erw = list(merged_df_erw['Strain'])"
   ]
  },
  {
   "cell_type": "raw",
   "id": "70f5afa4",
   "metadata": {},
   "source": []
  },
  {
   "cell_type": "markdown",
   "id": "76256111",
   "metadata": {},
   "source": [
    "## Tree visualisation"
   ]
  },
  {
   "cell_type": "code",
   "execution_count": 58,
   "id": "43616124",
   "metadata": {},
   "outputs": [
    {
     "data": {
      "text/html": [
       "<div class=\"toyplot\" id=\"t9396bc056f52457ba1c9e04c31752306\" style=\"text-align:center\"><svg class=\"toyplot-canvas-Canvas\" height=\"1000.0px\" id=\"t180300678e2c47af9f13ffdc60a474fd\" preserveAspectRatio=\"xMidYMid meet\" style=\"background-color:transparent;border-color:#292724;border-style:none;border-width:1.0;fill:rgb(16.1%,15.3%,14.1%);fill-opacity:1.0;font-family:Helvetica;font-size:12px;opacity:1.0;stroke:rgb(16.1%,15.3%,14.1%);stroke-opacity:1.0;stroke-width:1.0\" viewBox=\"0 0 1000.0 1000.0\" width=\"1000.0px\" xmlns=\"http://www.w3.org/2000/svg\" xmlns:toyplot=\"http://www.sandia.gov/toyplot\" xmlns:xlink=\"http://www.w3.org/1999/xlink\"><g class=\"toyplot-coordinates-Cartesian\" id=\"t00a36034713140d0a6357801c903c910\"><clipPath id=\"tf5d7554a880445289e6bcd10c1fbca15\"><rect height=\"940.0\" width=\"940.0\" x=\"30.0\" y=\"30.0\"></rect></clipPath><g clip-path=\"url(#tf5d7554a880445289e6bcd10c1fbca15)\"><g class=\"toytree-mark-Toytree\" id=\"t619bc75c48af4aed86b5b4a14923144e\"><g class=\"toytree-Edges\" style=\"fill:none;stroke:rgb(14.9%,14.9%,14.9%);stroke-linecap:round;stroke-opacity:1;stroke-width:2\"><path d=\"M 51.2 171.0 L 51.2 87.9 L 601.1 87.9\" id=\"51,50\"></path><path d=\"M 51.2 171.0 L 51.2 254.2 L 187.1 254.2\" id=\"51,49\"></path><path d=\"M 601.1 87.9 L 601.1 109.6 L 602.0 109.6\" id=\"50,48\"></path><path d=\"M 187.1 254.2 L 187.1 174.6 L 578.9 174.6\" id=\"49,47\"></path><path d=\"M 187.1 254.2 L 187.1 333.7 L 252.0 333.7\" id=\"49,46\"></path><path d=\"M 578.9 174.6 L 578.9 196.3 L 584.1 196.3\" id=\"47,45\"></path><path d=\"M 252.0 333.7 L 252.0 427.7 L 316.2 427.7\" id=\"46,44\"></path><path d=\"M 316.2 427.7 L 316.2 319.2 L 436.0 319.2\" id=\"44,43\"></path><path d=\"M 316.2 427.7 L 316.2 536.2 L 395.2 536.2\" id=\"44,42\"></path><path d=\"M 436.0 319.2 L 436.0 283.1 L 608.8 283.1\" id=\"43,41\"></path><path d=\"M 436.0 319.2 L 436.0 355.4 L 444.1 355.4\" id=\"43,40\"></path><path d=\"M 395.2 536.2 L 395.2 601.2 L 446.2 601.2\" id=\"42,39\"></path><path d=\"M 444.1 355.4 L 444.1 384.3 L 608.6 384.3\" id=\"40,38\"></path><path d=\"M 446.2 601.2 L 446.2 521.7 L 545.5 521.7\" id=\"39,37\"></path><path d=\"M 446.2 601.2 L 446.2 680.8 L 609.8 680.8\" id=\"39,36\"></path><path d=\"M 608.6 384.3 L 608.6 413.2 L 610.5 413.2\" id=\"38,35\"></path><path d=\"M 545.5 521.7 L 545.5 543.4 L 612.4 543.4\" id=\"37,34\"></path><path d=\"M 609.8 680.8 L 609.8 615.7 L 612.4 615.7\" id=\"36,33\"></path><path d=\"M 609.8 680.8 L 609.8 745.8 L 610.6 745.8\" id=\"36,32\"></path><path d=\"M 610.6 745.8 L 610.6 818.1 L 611.6 818.1\" id=\"32,31\"></path><path d=\"M 601.1 87.9 L 601.1 66.2 L 612.4 66.2\" id=\"50,30\"></path><path d=\"M 602.0 109.6 L 602.0 95.1 L 612.4 95.1\" id=\"48,29\"></path><path d=\"M 602.0 109.6 L 602.0 124.0 L 612.4 124.0\" id=\"48,28\"></path><path d=\"M 578.9 174.6 L 578.9 153.0 L 612.4 153.0\" id=\"47,27\"></path><path d=\"M 584.1 196.3 L 584.1 181.9 L 612.4 181.9\" id=\"45,26\"></path><path d=\"M 584.1 196.3 L 584.1 210.8 L 612.4 210.8\" id=\"45,25\"></path><path d=\"M 252.0 333.7 L 252.0 239.7 L 612.4 239.7\" id=\"46,24\"></path><path d=\"M 608.8 283.1 L 608.8 268.6 L 612.4 268.6\" id=\"41,23\"></path><path d=\"M 608.8 283.1 L 608.8 297.6 L 612.4 297.6\" id=\"41,22\"></path><path d=\"M 444.1 355.4 L 444.1 326.5 L 612.4 326.5\" id=\"40,21\"></path><path d=\"M 608.6 384.3 L 608.6 355.4 L 612.4 355.4\" id=\"38,20\"></path><path d=\"M 610.5 413.2 L 610.5 384.3 L 612.4 384.3\" id=\"35,19\"></path><path d=\"M 610.5 413.2 L 610.5 413.2 L 612.4 413.2\" id=\"35,18\"></path><path d=\"M 610.5 413.2 L 610.5 442.2 L 612.4 442.2\" id=\"35,17\"></path><path d=\"M 395.2 536.2 L 395.2 471.1 L 612.4 471.1\" id=\"42,16\"></path><path d=\"M 545.5 521.7 L 545.5 500.0 L 612.4 500.0\" id=\"37,15\"></path><path d=\"M 612.4 543.4 L 612.4 528.9 L 612.4 528.9\" id=\"34,14\"></path><path d=\"M 612.4 543.4 L 612.4 557.8 L 612.4 557.8\" id=\"34,13\"></path><path d=\"M 612.4 615.7 L 612.4 586.8 L 612.4 586.8\" id=\"33,12\"></path><path d=\"M 612.4 615.7 L 612.4 615.7 L 612.4 615.7\" id=\"33,11\"></path><path d=\"M 612.4 615.7 L 612.4 644.6 L 612.4 644.6\" id=\"33,10\"></path><path d=\"M 610.6 745.8 L 610.6 673.5 L 612.4 673.5\" id=\"32,9\"></path><path d=\"M 611.6 818.1 L 611.6 702.4 L 612.4 702.4\" id=\"31,8\"></path><path d=\"M 611.6 818.1 L 611.6 731.4 L 612.4 731.4\" id=\"31,7\"></path><path d=\"M 611.6 818.1 L 611.6 760.3 L 612.4 760.3\" id=\"31,6\"></path><path d=\"M 611.6 818.1 L 611.6 789.2 L 612.4 789.2\" id=\"31,5\"></path><path d=\"M 611.6 818.1 L 611.6 818.1 L 612.4 818.1\" id=\"31,4\"></path><path d=\"M 611.6 818.1 L 611.6 847.0 L 612.4 847.0\" id=\"31,3\"></path><path d=\"M 611.6 818.1 L 611.6 876.0 L 612.4 876.0\" id=\"31,2\"></path><path d=\"M 611.6 818.1 L 611.6 904.9 L 612.4 904.9\" id=\"31,1\"></path><path d=\"M 611.6 818.1 L 611.6 933.8 L 612.4 933.8\" id=\"31,0\"></path></g><g class=\"toytree-AlignEdges\" style=\"stroke:rgb(66.3%,66.3%,66.3%);stroke-dasharray:2, 4;stroke-linecap:round;stroke-opacity:1.0;stroke-width:2\"><path d=\"M 612.4 933.8 L 612.4 933.8\"></path><path d=\"M 612.4 904.9 L 612.4 904.9\"></path><path d=\"M 612.4 876.0 L 612.4 876.0\"></path><path d=\"M 612.4 847.0 L 612.4 847.0\"></path><path d=\"M 612.4 818.1 L 612.4 818.1\"></path><path d=\"M 612.4 789.2 L 612.4 789.2\"></path><path d=\"M 612.4 760.3 L 612.4 760.3\"></path><path d=\"M 612.4 731.4 L 612.4 731.4\"></path><path d=\"M 612.4 702.4 L 612.4 702.4\"></path><path d=\"M 612.4 673.5 L 612.4 673.5\"></path><path d=\"M 612.4 644.6 L 612.4 644.6\"></path><path d=\"M 612.4 615.7 L 612.4 615.7\"></path><path d=\"M 612.4 586.8 L 612.4 586.8\"></path><path d=\"M 612.4 557.8 L 612.4 557.8\"></path><path d=\"M 612.4 528.9 L 612.4 528.9\"></path><path d=\"M 612.4 500.0 L 612.4 500.0\"></path><path d=\"M 612.4 471.1 L 612.4 471.1\"></path><path d=\"M 612.4 442.2 L 612.4 442.2\"></path><path d=\"M 612.4 413.2 L 612.4 413.2\"></path><path d=\"M 612.4 384.3 L 612.4 384.3\"></path><path d=\"M 612.4 355.4 L 612.4 355.4\"></path><path d=\"M 612.4 326.5 L 612.4 326.5\"></path><path d=\"M 612.4 297.6 L 612.4 297.6\"></path><path d=\"M 612.4 268.6 L 612.4 268.6\"></path><path d=\"M 612.4 239.7 L 612.4 239.7\"></path><path d=\"M 612.4 210.8 L 612.4 210.8\"></path><path d=\"M 612.4 181.9 L 612.4 181.9\"></path><path d=\"M 612.4 153.0 L 612.4 153.0\"></path><path d=\"M 612.4 124.0 L 612.4 124.0\"></path><path d=\"M 612.4 95.1 L 612.4 95.1\"></path><path d=\"M 612.4 66.2 L 612.4 66.2\"></path></g><g class=\"toytree-NodeLabels\" style=\"fill:rgb(14.9%,14.9%,14.9%);fill-opacity:1.0;font-size:9px;stroke:none\"><g transform=\"translate(609.87,936.10)\"><text>0</text></g><g transform=\"translate(609.87,907.18)\"><text>1</text></g><g transform=\"translate(609.87,878.26)\"><text>2</text></g><g transform=\"translate(609.87,849.34)\"><text>3</text></g><g transform=\"translate(609.87,820.42)\"><text>4</text></g><g transform=\"translate(609.87,791.50)\"><text>5</text></g><g transform=\"translate(609.87,762.58)\"><text>6</text></g><g transform=\"translate(609.87,733.66)\"><text>7</text></g><g transform=\"translate(609.87,704.74)\"><text>8</text></g><g transform=\"translate(609.87,675.82)\"><text>9</text></g><g transform=\"translate(607.37,646.90)\"><text>10</text></g><g transform=\"translate(607.37,617.98)\"><text>11</text></g><g transform=\"translate(607.37,589.06)\"><text>12</text></g><g transform=\"translate(607.37,560.14)\"><text>13</text></g><g transform=\"translate(607.37,531.22)\"><text>14</text></g><g transform=\"translate(607.37,502.30)\"><text>15</text></g><g transform=\"translate(607.37,473.38)\"><text>16</text></g><g transform=\"translate(607.37,444.46)\"><text>17</text></g><g transform=\"translate(607.37,415.54)\"><text>18</text></g><g transform=\"translate(607.37,386.62)\"><text>19</text></g><g transform=\"translate(607.37,357.70)\"><text>20</text></g><g transform=\"translate(607.37,328.78)\"><text>21</text></g><g transform=\"translate(607.37,299.86)\"><text>22</text></g><g transform=\"translate(607.37,270.94)\"><text>23</text></g><g transform=\"translate(607.37,242.02)\"><text>24</text></g><g transform=\"translate(607.37,213.10)\"><text>25</text></g><g transform=\"translate(607.37,184.18)\"><text>26</text></g><g transform=\"translate(607.37,155.26)\"><text>27</text></g><g transform=\"translate(607.37,126.34)\"><text>28</text></g><g transform=\"translate(607.37,97.42)\"><text>29</text></g><g transform=\"translate(607.37,68.49)\"><text>30</text></g><g transform=\"translate(606.63,820.42)\"><text>31</text></g><g transform=\"translate(605.63,748.12)\"><text>32</text></g><g transform=\"translate(607.37,617.98)\"><text>33</text></g><g transform=\"translate(607.37,545.68)\"><text>34</text></g><g transform=\"translate(605.52,415.54)\"><text>35</text></g><g transform=\"translate(604.75,683.05)\"><text>36</text></g><g transform=\"translate(540.51,523.99)\"><text>37</text></g><g transform=\"translate(603.58,386.62)\"><text>38</text></g><g transform=\"translate(441.16,603.52)\"><text>39</text></g><g transform=\"translate(439.13,357.70)\"><text>40</text></g><g transform=\"translate(603.84,285.40)\"><text>41</text></g><g transform=\"translate(390.21,538.45)\"><text>42</text></g><g transform=\"translate(431.00,321.55)\"><text>43</text></g><g transform=\"translate(311.16,430.00)\"><text>44</text></g><g transform=\"translate(579.10,198.64)\"><text>45</text></g><g transform=\"translate(247.00,336.01)\"><text>46</text></g><g transform=\"translate(573.93,176.95)\"><text>47</text></g><g transform=\"translate(596.99,111.88)\"><text>48</text></g><g transform=\"translate(182.06,256.48)\"><text>49</text></g><g transform=\"translate(596.05,90.19)\"><text>50</text></g><g transform=\"translate(46.24,173.33)\"><text>51</text></g></g><g class=\"toytree-TipLabels\" style=\"fill:rgb(14.9%,14.9%,14.9%);fill-opacity:1.0;font-family:helvetica;font-size:18px;font-weight:normal;stroke:none;white-space:pre\"><g transform=\"translate(612.38,933.80)rotate(0)\"><text style=\"\" x=\"15.00\" y=\"4.60\">Erwinia_amylovora_E-2</text></g><g transform=\"translate(612.38,904.88)rotate(0)\"><text style=\"\" x=\"15.00\" y=\"4.60\">Erwinia_amylovora_ATCC_49946</text></g><g transform=\"translate(612.38,875.96)rotate(0)\"><text style=\"\" x=\"15.00\" y=\"4.60\">Erwinia_amylovora_17-2187</text></g><g transform=\"translate(612.38,847.04)rotate(0)\"><text style=\"\" x=\"15.00\" y=\"4.60\">Erwinia_amylovora_TS3128</text></g><g transform=\"translate(612.38,818.12)rotate(0)\"><text style=\"\" x=\"15.00\" y=\"4.60\">Erwinia_amylovora_FB-207</text></g><g transform=\"translate(612.38,789.20)rotate(0)\"><text style=\"\" x=\"15.00\" y=\"4.60\">Erwinia_amylovora_TS3238</text></g><g transform=\"translate(612.38,760.28)rotate(0)\"><text style=\"\" x=\"15.00\" y=\"4.60\">Erwinia_amylovora_FB-307</text></g><g transform=\"translate(612.38,731.36)rotate(0)\"><text style=\"\" x=\"15.00\" y=\"4.60\">Erwinia_amylovora_FB-86</text></g><g transform=\"translate(612.38,702.44)rotate(0)\"><text style=\"\" x=\"15.00\" y=\"4.60\">Erwinia_amylovora_FB-20</text></g><g transform=\"translate(612.38,673.52)rotate(0)\"><text style=\"\" x=\"15.00\" y=\"4.60\">Erwinia_amylovora_Ea179Sm</text></g><g transform=\"translate(612.38,644.60)rotate(0)\"><text style=\"\" x=\"15.00\" y=\"4.60\">Erwinia_amylovora_Ea1189</text></g><g transform=\"translate(612.38,615.68)rotate(0)\"><text style=\"\" x=\"15.00\" y=\"4.60\">Erwinia_amylovora_ATCC_15580</text></g><g transform=\"translate(612.38,586.76)rotate(0)\"><text style=\"\" x=\"15.00\" y=\"4.60\">Erwinia_amylovora_CFBP1430_CFPB1430</text></g><g transform=\"translate(612.38,557.84)rotate(0)\"><text style=\"\" x=\"15.00\" y=\"4.60\">Erwinia_pyrifoliae_EpK115</text></g><g transform=\"translate(612.38,528.92)rotate(0)\"><text style=\"\" x=\"15.00\" y=\"4.60\">Erwinia_pyrifoliae_Ep196</text></g><g transform=\"translate(612.38,500.00)rotate(0)\"><text style=\"\" x=\"15.00\" y=\"4.60\">Erwinia_Ejp617</text></g><g transform=\"translate(612.38,471.08)rotate(0)\"><text style=\"\" x=\"15.00\" y=\"4.60\">Erwinia_tasmaniensis_Et199</text></g><g transform=\"translate(612.38,442.16)rotate(0)\"><text style=\"\" x=\"15.00\" y=\"4.60\">Erwinia_rhapontici_MAFF_311153</text></g><g transform=\"translate(612.38,413.24)rotate(0)\"><text style=\"\" x=\"15.00\" y=\"4.60\">Erwinia_rhapontici_MAFF_311155</text></g><g transform=\"translate(612.38,384.32)rotate(0)\"><text style=\"\" x=\"15.00\" y=\"4.60\">Erwinia_rhapontici_MAFF_311154</text></g><g transform=\"translate(612.38,355.40)rotate(0)\"><text style=\"\" x=\"15.00\" y=\"4.60\">Erwinia_rhapontici_BY21311</text></g><g transform=\"translate(612.38,326.48)rotate(0)\"><text style=\"\" x=\"15.00\" y=\"4.60\">Erwinia_J780</text></g><g transform=\"translate(612.38,297.56)rotate(0)\"><text style=\"\" x=\"15.00\" y=\"4.60\">Erwinia_persicina_B64</text></g><g transform=\"translate(612.38,268.64)rotate(0)\"><text style=\"\" x=\"15.00\" y=\"4.60\">Erwinia_persicina_Cp2</text></g><g transform=\"translate(612.38,239.72)rotate(0)\"><text style=\"\" x=\"15.00\" y=\"4.60\">Erwinia_E602</text></g><g transform=\"translate(612.38,210.80)rotate(0)\"><text style=\"\" x=\"15.00\" y=\"4.60\">Erwinia_billingiae_Eb661</text></g><g transform=\"translate(612.38,181.88)rotate(0)\"><text style=\"\" x=\"15.00\" y=\"4.60\">Erwinia_billingiae_TH88</text></g><g transform=\"translate(612.38,152.96)rotate(0)\"><text style=\"\" x=\"15.00\" y=\"4.60\">Erwinia_QL-Z3</text></g><g transform=\"translate(612.38,124.04)rotate(0)\"><text style=\"\" x=\"15.00\" y=\"4.60\">Erwinia_gerundensis</text></g><g transform=\"translate(612.38,95.12)rotate(0)\"><text style=\"\" x=\"15.00\" y=\"4.60\">Erwinia_gerundensis</text></g><g transform=\"translate(612.38,66.20)rotate(0)\"><text style=\"\" x=\"15.00\" y=\"4.60\">Erwinia_gerundensis_AR</text></g></g></g></g></g></svg><div class=\"toyplot-behavior\"><script>(function()\n",
       "{\n",
       "var modules={};\n",
       "})();</script></div></div>"
      ]
     },
     "metadata": {},
     "output_type": "display_data"
    }
   ],
   "source": [
    "canvas, axes, mark = tre.draw(tip_labels_align=True,\n",
    "                               width=1000,\n",
    "                               height=1000,\n",
    "                               #layout='c',\n",
    "                               #edge_type='p',\n",
    "                               #tree_style='p',\n",
    "                               node_labels=True,\n",
    "                               tip_labels=tip_names_erw,\n",
    "                              \n",
    "                               tip_labels_style={\"font-size\": \"18px\",});"
   ]
  },
  {
   "cell_type": "code",
   "execution_count": 48,
   "id": "dc3e4a71",
   "metadata": {},
   "outputs": [],
   "source": [
    "# for creating scientific figures SVG is often the most useful format\n",
    "toyplot.svg.render(canvas, \"../raw_data/erwinia.svg\")"
   ]
  },
  {
   "cell_type": "raw",
   "id": "6f9cc980",
   "metadata": {},
   "source": []
  },
  {
   "cell_type": "markdown",
   "id": "211b3d78",
   "metadata": {},
   "source": [
    "## Cronobacter"
   ]
  },
  {
   "cell_type": "markdown",
   "id": "3f509512",
   "metadata": {},
   "source": [
    "### Load data"
   ]
  },
  {
   "cell_type": "code",
   "execution_count": 59,
   "id": "5fd3e96e",
   "metadata": {},
   "outputs": [],
   "source": [
    "crono = toytree.tree(r'../raw_data/Cronobacter.tree')"
   ]
  },
  {
   "cell_type": "markdown",
   "id": "e4c3c5c9",
   "metadata": {},
   "source": [
    "### Modify names"
   ]
  },
  {
   "cell_type": "code",
   "execution_count": 60,
   "id": "7f61ea8f",
   "metadata": {},
   "outputs": [],
   "source": [
    "list_tips2 = crono.get_tip_labels()"
   ]
  },
  {
   "cell_type": "code",
   "execution_count": 61,
   "id": "924b6caa",
   "metadata": {},
   "outputs": [],
   "source": [
    "crono_df = pd.DataFrame({\"ID\":list_tips2})"
   ]
  },
  {
   "cell_type": "code",
   "execution_count": 62,
   "id": "2f6a0a59",
   "metadata": {},
   "outputs": [
    {
     "data": {
      "text/html": [
       "<div>\n",
       "<style scoped>\n",
       "    .dataframe tbody tr th:only-of-type {\n",
       "        vertical-align: middle;\n",
       "    }\n",
       "\n",
       "    .dataframe tbody tr th {\n",
       "        vertical-align: top;\n",
       "    }\n",
       "\n",
       "    .dataframe thead th {\n",
       "        text-align: right;\n",
       "    }\n",
       "</style>\n",
       "<table border=\"1\" class=\"dataframe\">\n",
       "  <thead>\n",
       "    <tr style=\"text-align: right;\">\n",
       "      <th></th>\n",
       "      <th>ID</th>\n",
       "    </tr>\n",
       "  </thead>\n",
       "  <tbody>\n",
       "    <tr>\n",
       "      <th>0</th>\n",
       "      <td>GCF_018884145.1</td>\n",
       "    </tr>\n",
       "    <tr>\n",
       "      <th>1</th>\n",
       "      <td>GCF_018884085.1</td>\n",
       "    </tr>\n",
       "    <tr>\n",
       "      <th>2</th>\n",
       "      <td>GCF_013425995.1</td>\n",
       "    </tr>\n",
       "    <tr>\n",
       "      <th>3</th>\n",
       "      <td>GCF_000017665.1</td>\n",
       "    </tr>\n",
       "    <tr>\n",
       "      <th>4</th>\n",
       "      <td>GCF_003516125.1</td>\n",
       "    </tr>\n",
       "  </tbody>\n",
       "</table>\n",
       "</div>"
      ],
      "text/plain": [
       "                ID\n",
       "0  GCF_018884145.1\n",
       "1  GCF_018884085.1\n",
       "2  GCF_013425995.1\n",
       "3  GCF_000017665.1\n",
       "4  GCF_003516125.1"
      ]
     },
     "execution_count": 62,
     "metadata": {},
     "output_type": "execute_result"
    }
   ],
   "source": [
    "crono_df.head()"
   ]
  },
  {
   "cell_type": "code",
   "execution_count": 63,
   "id": "10b9de5d",
   "metadata": {},
   "outputs": [],
   "source": [
    "merged_df_crono = crono_df.merge(table[['ID','Strain']], on='ID', how='left')"
   ]
  },
  {
   "cell_type": "code",
   "execution_count": 64,
   "id": "80fa95ae",
   "metadata": {},
   "outputs": [
    {
     "data": {
      "text/html": [
       "<div>\n",
       "<style scoped>\n",
       "    .dataframe tbody tr th:only-of-type {\n",
       "        vertical-align: middle;\n",
       "    }\n",
       "\n",
       "    .dataframe tbody tr th {\n",
       "        vertical-align: top;\n",
       "    }\n",
       "\n",
       "    .dataframe thead th {\n",
       "        text-align: right;\n",
       "    }\n",
       "</style>\n",
       "<table border=\"1\" class=\"dataframe\">\n",
       "  <thead>\n",
       "    <tr style=\"text-align: right;\">\n",
       "      <th></th>\n",
       "      <th>ID</th>\n",
       "      <th>Strain</th>\n",
       "    </tr>\n",
       "  </thead>\n",
       "  <tbody>\n",
       "    <tr>\n",
       "      <th>0</th>\n",
       "      <td>GCF_018884145.1</td>\n",
       "      <td>Cronobacter_sakazakii_C757</td>\n",
       "    </tr>\n",
       "    <tr>\n",
       "      <th>1</th>\n",
       "      <td>GCF_018884085.1</td>\n",
       "      <td>Cronobacter_sakazakii_C767</td>\n",
       "    </tr>\n",
       "    <tr>\n",
       "      <th>2</th>\n",
       "      <td>GCF_013425995.1</td>\n",
       "      <td>Cronobacter_sakazakii_5563_17</td>\n",
       "    </tr>\n",
       "    <tr>\n",
       "      <th>3</th>\n",
       "      <td>GCF_000017665.1</td>\n",
       "      <td>Cronobacter_sakazakii_ATCC_BAA-894</td>\n",
       "    </tr>\n",
       "    <tr>\n",
       "      <th>4</th>\n",
       "      <td>GCF_003516125.1</td>\n",
       "      <td>Cronobacter_sakazakii_CS-931</td>\n",
       "    </tr>\n",
       "    <tr>\n",
       "      <th>5</th>\n",
       "      <td>GCA_003516105.2</td>\n",
       "      <td>Cronobacter_sakazakii_CS-09</td>\n",
       "    </tr>\n",
       "    <tr>\n",
       "      <th>6</th>\n",
       "      <td>GCA_009648895.1</td>\n",
       "      <td>Cronobacter_sakazakii_CFSAN068773</td>\n",
       "    </tr>\n",
       "  </tbody>\n",
       "</table>\n",
       "</div>"
      ],
      "text/plain": [
       "                ID                              Strain\n",
       "0  GCF_018884145.1          Cronobacter_sakazakii_C757\n",
       "1  GCF_018884085.1          Cronobacter_sakazakii_C767\n",
       "2  GCF_013425995.1       Cronobacter_sakazakii_5563_17\n",
       "3  GCF_000017665.1  Cronobacter_sakazakii_ATCC_BAA-894\n",
       "4  GCF_003516125.1        Cronobacter_sakazakii_CS-931\n",
       "5  GCA_003516105.2         Cronobacter_sakazakii_CS-09\n",
       "6  GCA_009648895.1   Cronobacter_sakazakii_CFSAN068773"
      ]
     },
     "execution_count": 64,
     "metadata": {},
     "output_type": "execute_result"
    }
   ],
   "source": [
    "merged_df_crono.head(7)"
   ]
  },
  {
   "cell_type": "code",
   "execution_count": 65,
   "id": "ae80ea27",
   "metadata": {},
   "outputs": [],
   "source": [
    "tip_names_cr = list(merged_df_crono['Strain'])"
   ]
  },
  {
   "cell_type": "raw",
   "id": "36be541b",
   "metadata": {},
   "source": []
  },
  {
   "cell_type": "markdown",
   "id": "d2b3420f",
   "metadata": {},
   "source": [
    "## Tree visualisation"
   ]
  },
  {
   "cell_type": "code",
   "execution_count": 72,
   "id": "b31dd645",
   "metadata": {},
   "outputs": [
    {
     "data": {
      "text/html": [
       "<div class=\"toyplot\" id=\"t3505c4852f884f8d807a38c5427d20af\" style=\"text-align:center\"><svg class=\"toyplot-canvas-Canvas\" height=\"1000.0px\" id=\"t47a50936037349acbdbfab52aa9ae3cf\" preserveAspectRatio=\"xMidYMid meet\" style=\"background-color:transparent;border-color:#292724;border-style:none;border-width:1.0;fill:rgb(16.1%,15.3%,14.1%);fill-opacity:1.0;font-family:Helvetica;font-size:12px;opacity:1.0;stroke:rgb(16.1%,15.3%,14.1%);stroke-opacity:1.0;stroke-width:1.0\" viewBox=\"0 0 1500.0 1000.0\" width=\"1500.0px\" xmlns=\"http://www.w3.org/2000/svg\" xmlns:toyplot=\"http://www.sandia.gov/toyplot\" xmlns:xlink=\"http://www.w3.org/1999/xlink\"><g class=\"toyplot-coordinates-Cartesian\" id=\"tf60b08e85e8341d9bbdb9369fa9cce2e\"><clipPath id=\"t2a2c9b8870dd4a55b654566568fcd402\"><rect height=\"940.0\" width=\"1440.0\" x=\"30.0\" y=\"30.0\"></rect></clipPath><g clip-path=\"url(#t2a2c9b8870dd4a55b654566568fcd402)\"><g class=\"toytree-mark-Toytree\" id=\"t2177da1de9444e0c8ec3f42f58dbb6f9\"><g class=\"toytree-Edges\" style=\"fill:none;stroke:rgb(14.9%,14.9%,14.9%);stroke-linecap:round;stroke-opacity:1;stroke-width:2\"><path d=\"M 51.3 244.7 L 51.3 100.7 L 224.3 100.7\" id=\"39,38\"></path><path d=\"M 51.3 244.7 L 51.3 388.8 L 462.3 388.8\" id=\"39,37\"></path><path d=\"M 224.3 100.7 L 224.3 135.2 L 451.4 135.2\" id=\"38,36\"></path><path d=\"M 462.3 388.8 L 462.3 283.1 L 556.8 283.1\" id=\"37,35\"></path><path d=\"M 462.3 388.8 L 462.3 494.5 L 666.3 494.5\" id=\"37,34\"></path><path d=\"M 451.4 135.2 L 451.4 164.8 L 919.6 164.8\" id=\"36,33\"></path><path d=\"M 556.8 283.1 L 556.8 243.7 L 714.2 243.7\" id=\"35,32\"></path><path d=\"M 556.8 283.1 L 556.8 322.5 L 985.6 322.5\" id=\"35,31\"></path><path d=\"M 666.3 494.5 L 666.3 401.4 L 898.2 401.4\" id=\"34,30\"></path><path d=\"M 666.3 494.5 L 666.3 587.5 L 866.9 587.5\" id=\"34,29\"></path><path d=\"M 866.9 587.5 L 866.9 480.3 L 873.8 480.3\" id=\"29,28\"></path><path d=\"M 866.9 587.5 L 866.9 694.7 L 889.6 694.7\" id=\"29,27\"></path><path d=\"M 889.6 694.7 L 889.6 573.9 L 890.8 573.9\" id=\"27,26\"></path><path d=\"M 889.6 694.7 L 889.6 815.5 L 980.9 815.5\" id=\"27,25\"></path><path d=\"M 890.8 573.9 L 890.8 608.5 L 904.4 608.5\" id=\"26,24\"></path><path d=\"M 904.4 608.5 L 904.4 638.0 L 985.7 638.0\" id=\"24,23\"></path><path d=\"M 224.3 100.7 L 224.3 66.2 L 985.7 66.2\" id=\"38,22\"></path><path d=\"M 451.4 135.2 L 451.4 105.6 L 985.7 105.6\" id=\"36,21\"></path><path d=\"M 919.6 164.8 L 919.6 145.1 L 985.7 145.1\" id=\"33,20\"></path><path d=\"M 919.6 164.8 L 919.6 184.5 L 985.7 184.5\" id=\"33,19\"></path><path d=\"M 714.2 243.7 L 714.2 223.9 L 985.7 223.9\" id=\"32,18\"></path><path d=\"M 714.2 243.7 L 714.2 263.4 L 985.7 263.4\" id=\"32,17\"></path><path d=\"M 985.6 322.5 L 985.6 302.8 L 985.7 302.8\" id=\"31,16\"></path><path d=\"M 985.6 322.5 L 985.6 342.3 L 985.7 342.3\" id=\"31,15\"></path><path d=\"M 898.2 401.4 L 898.2 381.7 L 985.7 381.7\" id=\"30,14\"></path><path d=\"M 898.2 401.4 L 898.2 421.1 L 985.7 421.1\" id=\"30,13\"></path><path d=\"M 873.8 480.3 L 873.8 460.6 L 985.7 460.6\" id=\"28,12\"></path><path d=\"M 873.8 480.3 L 873.8 500.0 L 985.7 500.0\" id=\"28,11\"></path><path d=\"M 890.8 573.9 L 890.8 539.4 L 985.7 539.4\" id=\"26,10\"></path><path d=\"M 904.4 608.5 L 904.4 578.9 L 985.7 578.9\" id=\"24,9\"></path><path d=\"M 985.7 638.0 L 985.7 618.3 L 985.7 618.3\" id=\"23,8\"></path><path d=\"M 985.7 638.0 L 985.7 657.7 L 985.7 657.7\" id=\"23,7\"></path><path d=\"M 980.9 815.5 L 980.9 697.2 L 985.7 697.2\" id=\"25,6\"></path><path d=\"M 980.9 815.5 L 980.9 736.6 L 985.7 736.6\" id=\"25,5\"></path><path d=\"M 980.9 815.5 L 980.9 776.1 L 985.7 776.1\" id=\"25,4\"></path><path d=\"M 980.9 815.5 L 980.9 815.5 L 985.7 815.5\" id=\"25,3\"></path><path d=\"M 980.9 815.5 L 980.9 854.9 L 985.7 854.9\" id=\"25,2\"></path><path d=\"M 980.9 815.5 L 980.9 894.4 L 985.7 894.4\" id=\"25,1\"></path><path d=\"M 980.9 815.5 L 980.9 933.8 L 985.7 933.8\" id=\"25,0\"></path></g><g class=\"toytree-AlignEdges\" style=\"stroke:rgb(66.3%,66.3%,66.3%);stroke-dasharray:2, 4;stroke-linecap:round;stroke-opacity:1.0;stroke-width:2\"><path d=\"M 985.7 933.8 L 985.7 933.8\"></path><path d=\"M 985.7 894.4 L 985.7 894.4\"></path><path d=\"M 985.7 854.9 L 985.7 854.9\"></path><path d=\"M 985.7 815.5 L 985.7 815.5\"></path><path d=\"M 985.7 776.1 L 985.7 776.1\"></path><path d=\"M 985.7 736.6 L 985.7 736.6\"></path><path d=\"M 985.7 697.2 L 985.7 697.2\"></path><path d=\"M 985.7 657.7 L 985.7 657.7\"></path><path d=\"M 985.7 618.3 L 985.7 618.3\"></path><path d=\"M 985.7 578.9 L 985.7 578.9\"></path><path d=\"M 985.7 539.4 L 985.7 539.4\"></path><path d=\"M 985.7 500.0 L 985.7 500.0\"></path><path d=\"M 985.7 460.6 L 985.7 460.6\"></path><path d=\"M 985.7 421.1 L 985.7 421.1\"></path><path d=\"M 985.7 381.7 L 985.7 381.7\"></path><path d=\"M 985.7 342.3 L 985.7 342.3\"></path><path d=\"M 985.7 302.8 L 985.7 302.8\"></path><path d=\"M 985.7 263.4 L 985.7 263.4\"></path><path d=\"M 985.7 223.9 L 985.7 223.9\"></path><path d=\"M 985.7 184.5 L 985.7 184.5\"></path><path d=\"M 985.7 145.1 L 985.7 145.1\"></path><path d=\"M 985.7 105.6 L 985.7 105.6\"></path><path d=\"M 985.7 66.2 L 985.7 66.2\"></path></g><g class=\"toytree-NodeLabels\" style=\"fill:rgb(14.9%,14.9%,14.9%);fill-opacity:1.0;font-size:9px;stroke:none\"><g transform=\"translate(983.21,936.10)\"><text>0</text></g><g transform=\"translate(983.21,896.67)\"><text>1</text></g><g transform=\"translate(983.21,857.23)\"><text>2</text></g><g transform=\"translate(983.21,817.79)\"><text>3</text></g><g transform=\"translate(983.21,778.36)\"><text>4</text></g><g transform=\"translate(983.21,738.92)\"><text>5</text></g><g transform=\"translate(983.21,699.48)\"><text>6</text></g><g transform=\"translate(983.21,660.05)\"><text>7</text></g><g transform=\"translate(983.21,620.61)\"><text>8</text></g><g transform=\"translate(983.21,581.17)\"><text>9</text></g><g transform=\"translate(980.71,541.74)\"><text>10</text></g><g transform=\"translate(980.71,502.30)\"><text>11</text></g><g transform=\"translate(980.71,462.86)\"><text>12</text></g><g transform=\"translate(980.70,423.43)\"><text>13</text></g><g transform=\"translate(980.70,383.99)\"><text>14</text></g><g transform=\"translate(980.71,344.55)\"><text>15</text></g><g transform=\"translate(980.71,305.12)\"><text>16</text></g><g transform=\"translate(980.70,265.68)\"><text>17</text></g><g transform=\"translate(980.70,226.24)\"><text>18</text></g><g transform=\"translate(980.71,186.81)\"><text>19</text></g><g transform=\"translate(980.71,147.37)\"><text>20</text></g><g transform=\"translate(980.71,107.93)\"><text>21</text></g><g transform=\"translate(980.70,68.49)\"><text>22</text></g><g transform=\"translate(980.66,640.33)\"><text>23</text></g><g transform=\"translate(899.39,610.75)\"><text>24</text></g><g transform=\"translate(975.92,817.79)\"><text>25</text></g><g transform=\"translate(885.75,576.24)\"><text>26</text></g><g transform=\"translate(884.63,697.02)\"><text>27</text></g><g transform=\"translate(868.81,482.58)\"><text>28</text></g><g transform=\"translate(861.86,589.80)\"><text>29</text></g><g transform=\"translate(893.23,403.71)\"><text>30</text></g><g transform=\"translate(980.64,324.83)\"><text>31</text></g><g transform=\"translate(709.17,245.96)\"><text>32</text></g><g transform=\"translate(914.58,167.09)\"><text>33</text></g><g transform=\"translate(661.28,496.75)\"><text>34</text></g><g transform=\"translate(551.78,285.40)\"><text>35</text></g><g transform=\"translate(446.37,137.51)\"><text>36</text></g><g transform=\"translate(457.34,391.08)\"><text>37</text></g><g transform=\"translate(219.29,103.00)\"><text>38</text></g><g transform=\"translate(46.33,247.04)\"><text>39</text></g></g><g class=\"toytree-TipLabels\" style=\"fill:rgb(14.9%,14.9%,14.9%);fill-opacity:1.0;font-family:helvetica;font-size:18px;font-weight:normal;stroke:none;white-space:pre\"><g transform=\"translate(985.71,933.80)rotate(0)\"><text style=\"\" x=\"15.00\" y=\"4.60\">Cronobacter_sakazakii_C757</text></g><g transform=\"translate(985.71,894.37)rotate(0)\"><text style=\"\" x=\"15.00\" y=\"4.60\">Cronobacter_sakazakii_C767</text></g><g transform=\"translate(985.71,854.93)rotate(0)\"><text style=\"\" x=\"15.00\" y=\"4.60\">Cronobacter_sakazakii_5563_17</text></g><g transform=\"translate(985.71,815.49)rotate(0)\"><text style=\"\" x=\"15.00\" y=\"4.60\">Cronobacter_sakazakii_ATCC_BAA-894</text></g><g transform=\"translate(985.71,776.06)rotate(0)\"><text style=\"\" x=\"15.00\" y=\"4.60\">Cronobacter_sakazakii_CS-931</text></g><g transform=\"translate(985.71,736.62)rotate(0)\"><text style=\"\" x=\"15.00\" y=\"4.60\">Cronobacter_sakazakii_CS-09</text></g><g transform=\"translate(985.71,697.18)rotate(0)\"><text style=\"\" x=\"15.00\" y=\"4.60\">Cronobacter_sakazakii_CFSAN068773</text></g><g transform=\"translate(985.71,657.75)rotate(0)\"><text style=\"\" x=\"15.00\" y=\"4.60\">Cronobacter_sakazakii_SP291_Sp291</text></g><g transform=\"translate(985.71,618.31)rotate(0)\"><text style=\"\" x=\"15.00\" y=\"4.60\">Cronobacter_sakazakii_NCTC_8155</text></g><g transform=\"translate(985.71,578.87)rotate(0)\"><text style=\"\" x=\"15.00\" y=\"4.60\">Cronobacter_sakazakii_ES15</text></g><g transform=\"translate(985.71,539.44)rotate(0)\"><text style=\"\" x=\"15.00\" y=\"4.60\">Cronobacter_sakazakii_C105731</text></g><g transform=\"translate(985.71,500.00)rotate(0)\"><text style=\"\" x=\"15.00\" y=\"4.60\">Cronobacter_sakazakii_MOD1-H322</text></g><g transform=\"translate(985.71,460.56)rotate(0)\"><text style=\"\" x=\"15.00\" y=\"4.60\">Cronobacter_sakazakii_ATCC_29544</text></g><g transform=\"translate(985.71,421.13)rotate(0)\"><text style=\"\" x=\"15.00\" y=\"4.60\">Cronobacter_sakazakii_GZcsf-1</text></g><g transform=\"translate(985.71,381.69)rotate(0)\"><text style=\"\" x=\"15.00\" y=\"4.60\">Cronobacter_sakazakii_C79</text></g><g transform=\"translate(985.71,342.25)rotate(0)\"><text style=\"\" x=\"15.00\" y=\"4.60\">Cronobacter_malonaticus_CMCC45402</text></g><g transform=\"translate(985.71,302.82)rotate(0)\"><text style=\"\" x=\"15.00\" y=\"4.60\">Cronobacter_malonaticus_LMG_23826</text></g><g transform=\"translate(985.71,263.38)rotate(0)\"><text style=\"\" x=\"15.00\" y=\"4.60\">Cronobacter_turicensis_z3032</text></g><g transform=\"translate(985.71,223.94)rotate(0)\"><text style=\"\" x=\"15.00\" y=\"4.60\">Cronobacter_universalis_NCTC_9529</text></g><g transform=\"translate(985.71,184.51)rotate(0)\"><text style=\"\" x=\"15.00\" y=\"4.60\">Cronobacter_muytjensii_ATCC_51329</text></g><g transform=\"translate(985.71,145.07)rotate(0)\"><text style=\"\" x=\"15.00\" y=\"4.60\">Cronobacter_JZ38</text></g><g transform=\"translate(985.71,105.63)rotate(0)\"><text style=\"\" x=\"15.00\" y=\"4.60\">Cronobacter_dublinensis_sub_dublinensis_LMG_23823</text></g><g transform=\"translate(985.71,66.20)rotate(0)\"><text style=\"\" x=\"15.00\" y=\"4.60\">Cronobacter_condimenti_1330_LMG_26250</text></g></g></g></g></g></svg><div class=\"toyplot-behavior\"><script>(function()\n",
       "{\n",
       "var modules={};\n",
       "})();</script></div></div>"
      ]
     },
     "metadata": {},
     "output_type": "display_data"
    }
   ],
   "source": [
    "canvas, axes, mark = crono.draw(tip_labels_align=True,\n",
    "                               width=1500,\n",
    "                               height=1000,\n",
    "                               #layout='c',\n",
    "                               #edge_type='p',\n",
    "                               #tree_style='p',\n",
    "                               node_labels=True,\n",
    "                               tip_labels=tip_names_cr,\n",
    "                              \n",
    "                               tip_labels_style={\"font-size\": \"18px\",});"
   ]
  },
  {
   "cell_type": "code",
   "execution_count": 73,
   "id": "7e0825b3",
   "metadata": {},
   "outputs": [],
   "source": [
    "# for creating scientific figures SVG is often the most useful format\n",
    "toyplot.svg.render(canvas, \"../raw_data/cronobacter.svg\")"
   ]
  },
  {
   "cell_type": "raw",
   "id": "8becafb9",
   "metadata": {},
   "source": []
  },
  {
   "cell_type": "markdown",
   "id": "11ba23ed",
   "metadata": {},
   "source": [
    "## Yersinia"
   ]
  },
  {
   "cell_type": "markdown",
   "id": "f3fbce0c",
   "metadata": {},
   "source": [
    "### Load data"
   ]
  },
  {
   "cell_type": "code",
   "execution_count": 74,
   "id": "9e01fc5f",
   "metadata": {},
   "outputs": [],
   "source": [
    "yers = toytree.tree(r'../raw_data/Yersinia.tree')"
   ]
  },
  {
   "cell_type": "markdown",
   "id": "68aaa8db",
   "metadata": {},
   "source": [
    "### Modify names"
   ]
  },
  {
   "cell_type": "code",
   "execution_count": 75,
   "id": "e9f6733c",
   "metadata": {},
   "outputs": [],
   "source": [
    "list_tips3 = yers.get_tip_labels()"
   ]
  },
  {
   "cell_type": "code",
   "execution_count": 76,
   "id": "4d3b6e7d",
   "metadata": {},
   "outputs": [],
   "source": [
    "yers_df = pd.DataFrame({\"ID\":list_tips3})"
   ]
  },
  {
   "cell_type": "code",
   "execution_count": 77,
   "id": "e59c2c27",
   "metadata": {},
   "outputs": [
    {
     "data": {
      "text/html": [
       "<div>\n",
       "<style scoped>\n",
       "    .dataframe tbody tr th:only-of-type {\n",
       "        vertical-align: middle;\n",
       "    }\n",
       "\n",
       "    .dataframe tbody tr th {\n",
       "        vertical-align: top;\n",
       "    }\n",
       "\n",
       "    .dataframe thead th {\n",
       "        text-align: right;\n",
       "    }\n",
       "</style>\n",
       "<table border=\"1\" class=\"dataframe\">\n",
       "  <thead>\n",
       "    <tr style=\"text-align: right;\">\n",
       "      <th></th>\n",
       "      <th>ID</th>\n",
       "    </tr>\n",
       "  </thead>\n",
       "  <tbody>\n",
       "    <tr>\n",
       "      <th>0</th>\n",
       "      <td>GCF_000009065.1</td>\n",
       "    </tr>\n",
       "    <tr>\n",
       "      <th>1</th>\n",
       "      <td>GCF_000007885.1</td>\n",
       "    </tr>\n",
       "    <tr>\n",
       "      <th>2</th>\n",
       "      <td>GCF_003798345.1</td>\n",
       "    </tr>\n",
       "    <tr>\n",
       "      <th>3</th>\n",
       "      <td>GCF_003798205.1</td>\n",
       "    </tr>\n",
       "    <tr>\n",
       "      <th>4</th>\n",
       "      <td>GCF_000006645.1</td>\n",
       "    </tr>\n",
       "  </tbody>\n",
       "</table>\n",
       "</div>"
      ],
      "text/plain": [
       "                ID\n",
       "0  GCF_000009065.1\n",
       "1  GCF_000007885.1\n",
       "2  GCF_003798345.1\n",
       "3  GCF_003798205.1\n",
       "4  GCF_000006645.1"
      ]
     },
     "execution_count": 77,
     "metadata": {},
     "output_type": "execute_result"
    }
   ],
   "source": [
    "yers_df.head()"
   ]
  },
  {
   "cell_type": "code",
   "execution_count": 78,
   "id": "2b7d84ea",
   "metadata": {},
   "outputs": [],
   "source": [
    "merged_df_yers = yers_df.merge(table[['ID','Strain']], on='ID', how='left')"
   ]
  },
  {
   "cell_type": "code",
   "execution_count": 79,
   "id": "270e4235",
   "metadata": {},
   "outputs": [
    {
     "data": {
      "text/html": [
       "<div>\n",
       "<style scoped>\n",
       "    .dataframe tbody tr th:only-of-type {\n",
       "        vertical-align: middle;\n",
       "    }\n",
       "\n",
       "    .dataframe tbody tr th {\n",
       "        vertical-align: top;\n",
       "    }\n",
       "\n",
       "    .dataframe thead th {\n",
       "        text-align: right;\n",
       "    }\n",
       "</style>\n",
       "<table border=\"1\" class=\"dataframe\">\n",
       "  <thead>\n",
       "    <tr style=\"text-align: right;\">\n",
       "      <th></th>\n",
       "      <th>ID</th>\n",
       "      <th>Strain</th>\n",
       "    </tr>\n",
       "  </thead>\n",
       "  <tbody>\n",
       "    <tr>\n",
       "      <th>0</th>\n",
       "      <td>GCF_000009065.1</td>\n",
       "      <td>Yersinia_pestis_CO92</td>\n",
       "    </tr>\n",
       "    <tr>\n",
       "      <th>1</th>\n",
       "      <td>GCF_000007885.1</td>\n",
       "      <td>Yersinia_pestis_biovar_Microtus_91001</td>\n",
       "    </tr>\n",
       "    <tr>\n",
       "      <th>2</th>\n",
       "      <td>GCF_003798345.1</td>\n",
       "      <td>Yersinia_pestis_FDAARGOS_602</td>\n",
       "    </tr>\n",
       "    <tr>\n",
       "      <th>3</th>\n",
       "      <td>GCF_003798205.1</td>\n",
       "      <td>Yersinia_pestis_FDAARGOS_603</td>\n",
       "    </tr>\n",
       "    <tr>\n",
       "      <th>4</th>\n",
       "      <td>GCF_000006645.1</td>\n",
       "      <td>Yersinia_pestis_KIM10</td>\n",
       "    </tr>\n",
       "    <tr>\n",
       "      <th>5</th>\n",
       "      <td>GCF_001693595.1</td>\n",
       "      <td>Yersinia_pestis_Cadman</td>\n",
       "    </tr>\n",
       "    <tr>\n",
       "      <th>6</th>\n",
       "      <td>GCF_000222975.1</td>\n",
       "      <td>Yersinia_pestis_A1122</td>\n",
       "    </tr>\n",
       "  </tbody>\n",
       "</table>\n",
       "</div>"
      ],
      "text/plain": [
       "                ID                                 Strain\n",
       "0  GCF_000009065.1                   Yersinia_pestis_CO92\n",
       "1  GCF_000007885.1  Yersinia_pestis_biovar_Microtus_91001\n",
       "2  GCF_003798345.1           Yersinia_pestis_FDAARGOS_602\n",
       "3  GCF_003798205.1           Yersinia_pestis_FDAARGOS_603\n",
       "4  GCF_000006645.1                  Yersinia_pestis_KIM10\n",
       "5  GCF_001693595.1                 Yersinia_pestis_Cadman\n",
       "6  GCF_000222975.1                  Yersinia_pestis_A1122"
      ]
     },
     "execution_count": 79,
     "metadata": {},
     "output_type": "execute_result"
    }
   ],
   "source": [
    "merged_df_yers.head(7)"
   ]
  },
  {
   "cell_type": "code",
   "execution_count": 80,
   "id": "6ef8a633",
   "metadata": {},
   "outputs": [],
   "source": [
    "tip_names_yers = list(merged_df_yers['Strain'])"
   ]
  },
  {
   "cell_type": "raw",
   "id": "be221c5e",
   "metadata": {},
   "source": []
  },
  {
   "cell_type": "markdown",
   "id": "b807942c",
   "metadata": {},
   "source": [
    "## Tree visualisation"
   ]
  },
  {
   "cell_type": "code",
   "execution_count": 88,
   "id": "d66e14d8",
   "metadata": {},
   "outputs": [
    {
     "data": {
      "text/html": [
       "<div class=\"toyplot\" id=\"ta88821cdfff949eb8ab61167f79a4e3f\" style=\"text-align:center\"><svg class=\"toyplot-canvas-Canvas\" height=\"2000.0px\" id=\"t1edc9cd9d4d04c6690663378bc22f52c\" preserveAspectRatio=\"xMidYMid meet\" style=\"background-color:transparent;border-color:#292724;border-style:none;border-width:1.0;fill:rgb(16.1%,15.3%,14.1%);fill-opacity:1.0;font-family:Helvetica;font-size:12px;opacity:1.0;stroke:rgb(16.1%,15.3%,14.1%);stroke-opacity:1.0;stroke-width:1.0\" viewBox=\"0 0 2000.0 2000.0\" width=\"2000.0px\" xmlns=\"http://www.w3.org/2000/svg\" xmlns:toyplot=\"http://www.sandia.gov/toyplot\" xmlns:xlink=\"http://www.w3.org/1999/xlink\"><g class=\"toyplot-coordinates-Cartesian\" id=\"tadf81d57f28c435d911b15bbd5be8ea5\"><clipPath id=\"t22fbf642ec95488c9a9468f98720825a\"><rect height=\"1940.0\" width=\"1940.0\" x=\"30.0\" y=\"30.0\"></rect></clipPath><g clip-path=\"url(#t22fbf642ec95488c9a9468f98720825a)\"><g class=\"toytree-mark-Toytree\" id=\"td7ab0d1139474dbfac910d63e04808c0\"><g class=\"toytree-Edges\" style=\"fill:none;stroke:rgb(14.9%,14.9%,14.9%);stroke-linecap:round;stroke-opacity:1;stroke-width:2\"><path d=\"M 1372.2 1035.8 L 1000.0 1000.0 A -0.0 -0.0 0 0 0 1000.0 1000.0\" id=\"192,191\"></path><path d=\"M 986.5 1114.5 L 1000.0 1000.0 A -0.0 -0.0 0 0 0 1000.0 1000.0\" id=\"192,190\"></path><path d=\"M 1401.8 1057.9 L 1370.1 1053.3 A 373.9 373.9 0 0 0 1372.2 1035.8\" id=\"191,189\"></path><path d=\"M 1140.7 1083.7 L 1099.1 1059.0 A 115.3 115.3 0 0 1 986.5 1114.5\" id=\"190,188\"></path><path d=\"M 675.2 1101.1 L 889.9 1034.3 A 115.3 115.3 0 0 0 986.5 1114.5\" id=\"190,187\"></path><path d=\"M 1415.8 1079.4 L 1398.7 1076.2 A 405.9 405.9 0 0 0 1401.8 1057.9\" id=\"189,186\"></path><path d=\"M 1170.4 1153.3 L 1121.7 1109.5 A 163.7 163.7 0 0 0 1140.7 1083.7\" id=\"188,185\"></path><path d=\"M 601.2 939.2 L 663.7 948.8 A 340.2 340.2 0 0 0 675.2 1101.1\" id=\"187,184\"></path><path d=\"M 1412.1 1097.1 L 1412.0 1097.1 A 423.3 423.3 0 0 0 1415.8 1079.4\" id=\"186,183\"></path><path d=\"M 1239.3 1108.7 L 1208.7 1094.8 A 229.2 229.2 0 0 1 1170.4 1153.3\" id=\"185,182\"></path><path d=\"M 1121.6 1206.6 L 1116.3 1197.6 A 229.2 229.2 0 0 0 1170.4 1153.3\" id=\"185,181\"></path><path d=\"M 631.1 1172.9 L 634.7 1171.2 A 403.4 403.4 0 0 1 601.2 939.2\" id=\"184,180\"></path><path d=\"M 692.7 719.0 L 702.3 727.8 A 403.4 403.4 0 0 0 601.2 939.2\" id=\"184,179\"></path><path d=\"M 1411.4 1112.9 L 1408.2 1112.1 A 423.3 423.3 0 0 0 1412.1 1097.1\" id=\"183,178\"></path><path d=\"M 1366.6 1182.9 L 1235.2 1117.3 A 262.9 262.9 0 0 0 1239.3 1108.7\" id=\"182,177\"></path><path d=\"M 1192.9 1152.5 L 1188.1 1148.7 A 239.8 239.8 0 0 1 1121.6 1206.6\" id=\"181,176\"></path><path d=\"M 1040.4 1246.7 L 1038.7 1236.6 A 239.8 239.8 0 0 0 1121.6 1206.6\" id=\"181,175\"></path><path d=\"M 662.4 1260.7 L 677.6 1249.0 A 407.4 407.4 0 0 1 631.1 1172.9\" id=\"180,174\"></path><path d=\"M 595.3 1090.1 L 602.4 1088.6 A 407.4 407.4 0 0 0 631.1 1172.9\" id=\"180,173\"></path><path d=\"M 628.0 791.2 L 636.9 796.2 A 416.4 416.4 0 0 1 692.7 719.0\" id=\"179,172\"></path><path d=\"M 761.6 652.0 L 764.6 656.5 A 416.4 416.4 0 0 0 692.7 719.0\" id=\"179,171\"></path><path d=\"M 1175.8 1181.7 L 1171.0 1176.8 A 245.9 245.9 0 0 0 1192.9 1152.5\" id=\"176,170\"></path><path d=\"M 1105.4 1321.6 L 1077.8 1237.6 A 250.0 250.0 0 0 1 1040.4 1246.7\" id=\"175,169\"></path><path d=\"M 1002.7 1351.7 L 1001.9 1250.0 A 250.0 250.0 0 0 0 1040.4 1246.7\" id=\"175,168\"></path><path d=\"M 623.5 1173.7 L 623.5 1173.7 A 414.6 414.6 0 0 1 595.3 1090.1\" id=\"173,167\"></path><path d=\"M 585.4 1002.5 L 585.4 1002.5 A 414.6 414.6 0 0 0 595.3 1090.1\" id=\"173,166\"></path><path d=\"M 662.3 745.7 L 663.0 746.3 A 421.9 421.9 0 0 1 761.6 652.0\" id=\"171,165\"></path><path d=\"M 885.0 593.8 L 885.0 594.1 A 421.9 421.9 0 0 0 761.6 652.0\" id=\"171,164\"></path><path d=\"M 1330.0 1250.1 L 1201.5 1152.7 A 252.8 252.8 0 0 1 1175.8 1181.7\" id=\"170,163\"></path><path d=\"M 1151.1 1214.0 L 1145.9 1206.5 A 252.8 252.8 0 0 0 1175.8 1181.7\" id=\"170,162\"></path><path d=\"M 1117.9 1410.0 L 1093.5 1325.2 A 338.4 338.4 0 0 0 1105.4 1321.6\" id=\"169,161\"></path><path d=\"M 1068.5 1398.1 L 1059.7 1346.6 A 351.7 351.7 0 0 1 1002.7 1351.7\" id=\"168,160\"></path><path d=\"M 938.7 1391.4 L 945.6 1347.5 A 351.7 351.7 0 0 0 1002.7 1351.7\" id=\"168,159\"></path><path d=\"M 638.9 1208.5 L 640.9 1207.3 A 414.6 414.6 0 0 1 623.5 1173.7\" id=\"167,158\"></path><path d=\"M 598.0 1142.6 L 609.2 1138.6 A 414.6 414.6 0 0 0 623.5 1173.7\" id=\"167,157\"></path><path d=\"M 592.3 1075.3 L 592.3 1075.3 A 414.6 414.6 0 0 1 585.4 1002.5\" id=\"166,156\"></path><path d=\"M 585.9 928.7 L 591.4 929.7 A 414.6 414.6 0 0 0 585.4 1002.5\" id=\"166,155\"></path><path d=\"M 668.8 731.1 L 671.8 733.6 A 422.8 422.8 0 0 0 662.3 745.7\" id=\"165,154\"></path><path d=\"M 733.5 671.7 L 733.9 672.2 A 422.2 422.2 0 0 1 885.0 593.8\" id=\"164,153\"></path><path d=\"M 1263.6 667.1 L 1262.1 669.0 A 422.2 422.2 0 0 0 885.0 593.8\" id=\"164,152\"></path><path d=\"M 1315.8 1272.7 L 1313.4 1270.6 A 414.1 414.1 0 0 0 1330.0 1250.1\" id=\"163,151\"></path><path d=\"M 1148.7 1250.4 L 1133.7 1225.2 A 262.0 262.0 0 0 0 1151.1 1214.0\" id=\"162,150\"></path><path d=\"M 1057.0 1422.8 L 1053.9 1400.3 A 403.9 403.9 0 0 0 1068.5 1398.1\" id=\"160,149\"></path><path d=\"M 1010.1 1413.8 L 1009.6 1396.1 A 396.2 396.2 0 0 1 938.7 1391.4\" id=\"159,148\"></path><path d=\"M 867.2 1381.6 L 869.8 1374.2 A 396.2 396.2 0 0 0 938.7 1391.4\" id=\"159,147\"></path><path d=\"M 625.5 1198.3 L 631.6 1195.1 A 416.9 416.9 0 0 0 638.9 1208.5\" id=\"158,146\"></path><path d=\"M 589.8 1060.4 L 589.8 1060.4 A 414.6 414.6 0 0 0 592.3 1075.3\" id=\"156,145\"></path><path d=\"M 761.1 648.3 L 762.4 650.2 A 422.9 422.9 0 0 0 733.5 671.7\" id=\"153,144\"></path><path d=\"M 1337.6 1260.7 L 1330.3 1255.0 A 417.3 417.3 0 0 1 1315.8 1272.7\" id=\"151,143\"></path><path d=\"M 1305.7 1294.8 L 1300.4 1289.6 A 417.3 417.3 0 0 0 1315.8 1272.7\" id=\"151,142\"></path><path d=\"M 1198.2 1284.3 L 1166.6 1238.9 A 291.2 291.2 0 0 1 1148.7 1250.4\" id=\"150,141\"></path><path d=\"M 1187.9 1376.7 L 1130.0 1260.6 A 291.2 291.2 0 0 0 1148.7 1250.4\" id=\"150,140\"></path><path d=\"M 994.8 1426.5 L 995.0 1413.9 A 413.9 413.9 0 0 0 1010.1 1413.8\" id=\"148,139\"></path><path d=\"M 922.5 1419.5 L 926.6 1397.3 A 404.1 404.1 0 0 1 867.2 1381.6\" id=\"147,138\"></path><path d=\"M 809.5 1359.7 L 810.9 1357.1 A 404.1 404.1 0 0 0 867.2 1381.6\" id=\"147,137\"></path><path d=\"M 805.0 620.8 L 805.6 621.9 A 425.1 425.1 0 0 0 761.1 648.3\" id=\"144,136\"></path><path d=\"M 1295.8 1306.8 L 1294.8 1305.7 A 424.7 424.7 0 0 0 1305.7 1294.8\" id=\"142,135\"></path><path d=\"M 1194.3 1301.6 L 1187.7 1291.4 A 346.6 346.6 0 0 0 1198.2 1284.3\" id=\"141,134\"></path><path d=\"M 1176.4 1388.4 L 1174.1 1383.4 A 421.0 421.0 0 0 0 1187.9 1376.7\" id=\"140,133\"></path><path d=\"M 845.6 1389.4 L 850.0 1378.3 A 407.0 407.0 0 0 1 809.5 1359.7\" id=\"137,132\"></path><path d=\"M 760.7 1352.3 L 771.3 1336.7 A 407.0 407.0 0 0 0 809.5 1359.7\" id=\"137,131\"></path><path d=\"M 823.6 1388.4 L 826.8 1381.4 A 418.9 418.9 0 0 0 845.6 1389.4\" id=\"132,130\"></path><path d=\"M 735.4 1334.2 L 735.6 1333.9 A 425.9 425.9 0 0 0 760.7 1352.3\" id=\"131,129\"></path><path d=\"M 1426.1 1020.8 L 1373.5 1018.2 A 373.9 373.9 0 0 1 1372.2 1035.8\" id=\"191,128\"></path><path d=\"M 1424.6 1041.5 L 1404.0 1039.5 A 405.9 405.9 0 0 1 1401.8 1057.9\" id=\"189,127\"></path><path d=\"M 1422.1 1062.1 L 1418.8 1061.6 A 423.3 423.3 0 0 1 1415.8 1079.4\" id=\"186,126\"></path><path d=\"M 1418.5 1082.6 L 1415.3 1082.0 A 423.3 423.3 0 0 1 1412.1 1097.1\" id=\"183,125\"></path><path d=\"M 1414.0 1102.9 L 1414.0 1102.9 A 426.6 426.6 0 0 1 1411.4 1112.9\" id=\"178,124\"></path><path d=\"M 1408.5 1122.9 L 1408.5 1122.9 A 426.6 426.6 0 0 0 1411.4 1112.9\" id=\"178,123\"></path><path d=\"M 1402.0 1142.6 L 1154.3 1054.7 A 163.7 163.7 0 0 1 1140.7 1083.7\" id=\"188,122\"></path><path d=\"M 1394.6 1162.0 L 1243.2 1099.8 A 262.9 262.9 0 0 1 1239.3 1108.7\" id=\"182,121\"></path><path d=\"M 1386.3 1181.1 L 1370.9 1173.9 A 409.7 409.7 0 0 1 1366.6 1182.9\" id=\"177,120\"></path><path d=\"M 1377.0 1199.7 L 1362.0 1191.7 A 409.7 409.7 0 0 0 1366.6 1182.9\" id=\"177,119\"></path><path d=\"M 1366.8 1217.8 L 1211.5 1125.5 A 245.9 245.9 0 0 1 1192.9 1152.5\" id=\"176,118\"></path><path d=\"M 1355.8 1235.4 L 1345.3 1228.5 A 414.1 414.1 0 0 1 1330.0 1250.1\" id=\"163,117\"></path><path d=\"M 1343.9 1252.4 L 1343.9 1252.4 A 426.6 426.6 0 0 1 1337.6 1260.7\" id=\"143,116\"></path><path d=\"M 1331.2 1268.9 L 1331.2 1268.9 A 426.6 426.6 0 0 0 1337.6 1260.7\" id=\"143,115\"></path><path d=\"M 1317.7 1284.7 L 1316.3 1283.4 A 424.7 424.7 0 0 1 1305.7 1294.8\" id=\"142,114\"></path><path d=\"M 1303.5 1299.8 L 1303.2 1299.6 A 426.2 426.2 0 0 1 1295.8 1306.8\" id=\"135,113\"></path><path d=\"M 1288.5 1314.2 L 1288.3 1314.0 A 426.2 426.2 0 0 0 1295.8 1306.8\" id=\"135,112\"></path><path d=\"M 1272.9 1327.9 L 1167.6 1201.4 A 262.0 262.0 0 0 1 1151.1 1214.0\" id=\"162,111\"></path><path d=\"M 1256.6 1340.8 L 1208.5 1276.9 A 346.6 346.6 0 0 1 1198.2 1284.3\" id=\"141,110\"></path><path d=\"M 1239.7 1352.9 L 1201.6 1296.8 A 358.7 358.7 0 0 1 1194.3 1301.6\" id=\"134,109\"></path><path d=\"M 1222.2 1364.1 L 1186.9 1306.2 A 358.7 358.7 0 0 0 1194.3 1301.6\" id=\"134,108\"></path><path d=\"M 1204.2 1374.5 L 1201.6 1369.6 A 421.0 421.0 0 0 1 1187.9 1376.7\" id=\"140,107\"></path><path d=\"M 1185.8 1384.0 L 1185.8 1384.0 A 426.6 426.6 0 0 1 1176.4 1388.4\" id=\"133,106\"></path><path d=\"M 1166.8 1392.6 L 1166.9 1392.6 A 426.6 426.6 0 0 0 1176.4 1388.4\" id=\"133,105\"></path><path d=\"M 1147.5 1400.3 L 1117.0 1317.5 A 338.4 338.4 0 0 1 1105.4 1321.6\" id=\"169,104\"></path><path d=\"M 1127.9 1407.0 L 1127.9 1407.0 A 426.6 426.6 0 0 1 1117.9 1410.0\" id=\"161,103\"></path><path d=\"M 1107.9 1412.7 L 1107.9 1412.7 A 426.6 426.6 0 0 0 1117.9 1410.0\" id=\"161,102\"></path><path d=\"M 1087.7 1417.5 L 1083.0 1395.3 A 403.9 403.9 0 0 1 1068.5 1398.1\" id=\"160,101\"></path><path d=\"M 1067.2 1421.3 L 1067.3 1421.3 A 426.6 426.6 0 0 1 1057.0 1422.8\" id=\"149,100\"></path><path d=\"M 1046.7 1424.0 L 1046.7 1424.0 A 426.6 426.6 0 0 0 1057.0 1422.8\" id=\"149,99\"></path><path d=\"M 1026.0 1425.8 L 1025.2 1413.2 A 413.9 413.9 0 0 1 1010.1 1413.8\" id=\"148,98\"></path><path d=\"M 1005.2 1426.6 L 1005.2 1426.6 A 426.6 426.6 0 0 1 994.8 1426.5\" id=\"139,97\"></path><path d=\"M 984.4 1426.3 L 984.4 1426.3 A 426.6 426.6 0 0 0 994.8 1426.5\" id=\"139,96\"></path><path d=\"M 963.7 1425.0 L 963.7 1425.0 A 426.6 426.6 0 0 1 922.5 1419.5\" id=\"138,95\"></path><path d=\"M 943.0 1422.8 L 943.0 1422.8 A 426.6 426.6 0 0 1 922.5 1419.5\" id=\"138,94\"></path><path d=\"M 922.5 1419.5 L 922.5 1419.5 A 426.6 426.6 0 0 0 922.5 1419.5\" id=\"138,93\"></path><path d=\"M 902.2 1415.2 L 902.2 1415.2 A 426.6 426.6 0 0 0 922.5 1419.5\" id=\"138,92\"></path><path d=\"M 882.1 1410.0 L 882.1 1410.0 A 426.6 426.6 0 0 0 922.5 1419.5\" id=\"138,91\"></path><path d=\"M 862.3 1403.7 L 864.8 1396.4 A 418.9 418.9 0 0 1 845.6 1389.4\" id=\"132,90\"></path><path d=\"M 842.8 1396.6 L 842.8 1396.6 A 426.6 426.6 0 0 1 823.6 1388.4\" id=\"130,89\"></path><path d=\"M 823.6 1388.4 L 823.6 1388.4 A 426.6 426.6 0 0 0 823.6 1388.4\" id=\"130,88\"></path><path d=\"M 804.9 1379.4 L 804.9 1379.4 A 426.6 426.6 0 0 0 823.6 1388.4\" id=\"130,87\"></path><path d=\"M 786.7 1369.4 L 787.0 1368.9 A 425.9 425.9 0 0 1 760.7 1352.3\" id=\"131,86\"></path><path d=\"M 769.0 1358.6 L 769.1 1358.3 A 426.3 426.3 0 0 1 735.4 1334.2\" id=\"129,85\"></path><path d=\"M 751.8 1346.9 L 752.0 1346.7 A 426.3 426.3 0 0 1 735.4 1334.2\" id=\"129,84\"></path><path d=\"M 735.2 1334.4 L 735.4 1334.2 A 426.3 426.3 0 0 0 735.4 1334.2\" id=\"129,83\"></path><path d=\"M 719.2 1321.2 L 719.4 1320.9 A 426.3 426.3 0 0 0 735.4 1334.2\" id=\"129,82\"></path><path d=\"M 703.9 1307.1 L 704.1 1306.9 A 426.3 426.3 0 0 0 735.4 1334.2\" id=\"129,81\"></path><path d=\"M 689.3 1292.3 L 752.3 1233.1 A 340.2 340.2 0 0 1 675.2 1101.1\" id=\"187,80\"></path><path d=\"M 675.4 1276.8 L 675.4 1276.8 A 426.6 426.6 0 0 1 662.4 1260.7\" id=\"174,79\"></path><path d=\"M 662.3 1260.7 L 662.3 1260.7 A 426.6 426.6 0 0 0 662.4 1260.7\" id=\"174,78\"></path><path d=\"M 650.1 1244.0 L 650.1 1244.0 A 426.6 426.6 0 0 0 662.4 1260.7\" id=\"174,77\"></path><path d=\"M 638.6 1226.6 L 646.8 1221.5 A 416.9 416.9 0 0 1 638.9 1208.5\" id=\"158,76\"></path><path d=\"M 628.0 1208.8 L 630.4 1207.4 A 423.8 423.8 0 0 1 625.5 1198.3\" id=\"146,75\"></path><path d=\"M 618.3 1190.4 L 620.8 1189.2 A 423.8 423.8 0 0 0 625.5 1198.3\" id=\"146,74\"></path><path d=\"M 609.4 1171.6 L 609.4 1171.6 A 426.6 426.6 0 0 1 598.0 1142.6\" id=\"157,73\"></path><path d=\"M 601.5 1152.4 L 601.6 1152.4 A 426.6 426.6 0 0 1 598.0 1142.6\" id=\"157,72\"></path><path d=\"M 594.6 1132.8 L 594.6 1132.8 A 426.6 426.6 0 0 0 598.0 1142.6\" id=\"157,71\"></path><path d=\"M 588.6 1112.9 L 588.6 1112.9 A 426.6 426.6 0 0 0 598.0 1142.6\" id=\"157,70\"></path><path d=\"M 583.6 1092.8 L 595.3 1090.1 A 414.6 414.6 0 0 1 592.3 1075.3\" id=\"156,69\"></path><path d=\"M 579.6 1072.4 L 591.4 1070.3 A 414.6 414.6 0 0 1 589.8 1060.4\" id=\"145,68\"></path><path d=\"M 576.6 1051.8 L 588.4 1050.4 A 414.6 414.6 0 0 0 589.8 1060.4\" id=\"145,67\"></path><path d=\"M 574.5 1031.1 L 580.9 1030.7 A 420.2 420.2 0 0 1 585.9 928.7\" id=\"155,66\"></path><path d=\"M 573.5 1010.4 L 579.9 1010.2 A 420.2 420.2 0 0 1 585.9 928.7\" id=\"155,65\"></path><path d=\"M 573.5 989.6 L 579.9 989.8 A 420.2 420.2 0 0 1 585.9 928.7\" id=\"155,64\"></path><path d=\"M 574.5 968.9 L 580.9 969.3 A 420.2 420.2 0 0 1 585.9 928.7\" id=\"155,63\"></path><path d=\"M 576.6 948.2 L 582.9 949.0 A 420.2 420.2 0 0 1 585.9 928.7\" id=\"155,62\"></path><path d=\"M 579.6 927.6 L 585.9 928.7 A 420.2 420.2 0 0 1 585.9 928.7\" id=\"155,61\"></path><path d=\"M 583.6 907.2 L 589.9 908.6 A 420.2 420.2 0 0 0 585.9 928.7\" id=\"155,60\"></path><path d=\"M 588.6 887.1 L 594.8 888.8 A 420.2 420.2 0 0 0 585.9 928.7\" id=\"155,59\"></path><path d=\"M 594.6 867.2 L 600.7 869.2 A 420.2 420.2 0 0 0 585.9 928.7\" id=\"155,58\"></path><path d=\"M 601.5 847.6 L 607.5 849.9 A 420.2 420.2 0 0 0 585.9 928.7\" id=\"155,57\"></path><path d=\"M 609.4 828.4 L 615.3 831.0 A 420.2 420.2 0 0 0 585.9 928.7\" id=\"155,56\"></path><path d=\"M 618.3 809.6 L 618.3 809.6 A 426.6 426.6 0 0 1 628.0 791.2\" id=\"172,55\"></path><path d=\"M 628.0 791.2 L 628.0 791.2 A 426.6 426.6 0 0 1 628.0 791.2\" id=\"172,54\"></path><path d=\"M 638.6 773.4 L 638.6 773.4 A 426.6 426.6 0 0 0 628.0 791.2\" id=\"172,53\"></path><path d=\"M 650.1 756.0 L 653.2 758.2 A 422.8 422.8 0 0 1 662.3 745.7\" id=\"165,52\"></path><path d=\"M 662.3 739.3 L 662.3 739.3 A 426.6 426.6 0 0 1 668.8 731.1\" id=\"154,51\"></path><path d=\"M 675.4 723.2 L 675.4 723.1 A 426.6 426.6 0 0 0 668.8 731.1\" id=\"154,50\"></path><path d=\"M 689.3 707.7 L 692.5 710.7 A 422.2 422.2 0 0 1 885.0 593.8\" id=\"164,49\"></path><path d=\"M 703.9 692.9 L 706.5 695.6 A 422.9 422.9 0 0 1 733.5 671.7\" id=\"153,48\"></path><path d=\"M 719.2 678.8 L 720.2 679.9 A 425.1 425.1 0 0 1 761.1 648.3\" id=\"144,47\"></path><path d=\"M 735.2 665.6 L 735.3 665.7 A 426.4 426.4 0 0 1 805.0 620.8\" id=\"136,46\"></path><path d=\"M 751.8 653.1 L 751.9 653.2 A 426.4 426.4 0 0 1 805.0 620.8\" id=\"136,45\"></path><path d=\"M 769.0 641.4 L 769.0 641.5 A 426.4 426.4 0 0 1 805.0 620.8\" id=\"136,44\"></path><path d=\"M 786.7 630.6 L 786.8 630.7 A 426.4 426.4 0 0 1 805.0 620.8\" id=\"136,43\"></path><path d=\"M 804.9 620.6 L 805.0 620.7 A 426.4 426.4 0 0 1 805.0 620.8\" id=\"136,42\"></path><path d=\"M 823.6 611.6 L 823.7 611.7 A 426.4 426.4 0 0 0 805.0 620.8\" id=\"136,41\"></path><path d=\"M 842.8 603.4 L 842.8 603.6 A 426.4 426.4 0 0 0 805.0 620.8\" id=\"136,40\"></path><path d=\"M 862.3 596.3 L 862.3 596.4 A 426.4 426.4 0 0 0 805.0 620.8\" id=\"136,39\"></path><path d=\"M 882.1 590.0 L 882.1 590.2 A 426.4 426.4 0 0 0 805.0 620.8\" id=\"136,38\"></path><path d=\"M 902.2 584.8 L 902.6 586.6 A 424.7 424.7 0 0 1 1263.6 667.1\" id=\"152,37\"></path><path d=\"M 922.5 580.5 L 922.9 582.4 A 424.7 424.7 0 0 1 1263.6 667.1\" id=\"152,36\"></path><path d=\"M 943.0 577.2 L 943.3 579.1 A 424.7 424.7 0 0 1 1263.6 667.1\" id=\"152,35\"></path><path d=\"M 963.7 575.0 L 963.8 576.8 A 424.7 424.7 0 0 1 1263.6 667.1\" id=\"152,34\"></path><path d=\"M 984.4 573.7 L 984.5 575.6 A 424.7 424.7 0 0 1 1263.6 667.1\" id=\"152,33\"></path><path d=\"M 1005.2 573.4 L 1005.2 575.3 A 424.7 424.7 0 0 1 1263.6 667.1\" id=\"152,32\"></path><path d=\"M 1026.0 574.2 L 1025.8 576.1 A 424.7 424.7 0 0 1 1263.6 667.1\" id=\"152,31\"></path><path d=\"M 1046.7 576.0 L 1046.5 577.9 A 424.7 424.7 0 0 1 1263.6 667.1\" id=\"152,30\"></path><path d=\"M 1067.2 578.7 L 1067.0 580.6 A 424.7 424.7 0 0 1 1263.6 667.1\" id=\"152,29\"></path><path d=\"M 1087.7 582.5 L 1087.3 584.4 A 424.7 424.7 0 0 1 1263.6 667.1\" id=\"152,28\"></path><path d=\"M 1107.9 587.3 L 1107.4 589.1 A 424.7 424.7 0 0 1 1263.6 667.1\" id=\"152,27\"></path><path d=\"M 1127.9 593.0 L 1127.3 594.8 A 424.7 424.7 0 0 1 1263.6 667.1\" id=\"152,26\"></path><path d=\"M 1147.5 599.7 L 1146.9 601.5 A 424.7 424.7 0 0 1 1263.6 667.1\" id=\"152,25\"></path><path d=\"M 1166.8 607.4 L 1166.1 609.1 A 424.7 424.7 0 0 1 1263.6 667.1\" id=\"152,24\"></path><path d=\"M 1185.8 616.0 L 1184.9 617.7 A 424.7 424.7 0 0 1 1263.6 667.1\" id=\"152,23\"></path><path d=\"M 1204.2 625.5 L 1203.3 627.1 A 424.7 424.7 0 0 1 1263.6 667.1\" id=\"152,22\"></path><path d=\"M 1222.2 635.9 L 1221.2 637.5 A 424.7 424.7 0 0 1 1263.6 667.1\" id=\"152,21\"></path><path d=\"M 1239.7 647.1 L 1238.6 648.7 A 424.7 424.7 0 0 1 1263.6 667.1\" id=\"152,20\"></path><path d=\"M 1256.6 659.2 L 1255.5 660.7 A 424.7 424.7 0 0 1 1263.6 667.1\" id=\"152,19\"></path><path d=\"M 1272.9 672.1 L 1271.7 673.6 A 424.7 424.7 0 0 0 1263.6 667.1\" id=\"152,18\"></path><path d=\"M 1288.5 685.8 L 1287.2 687.2 A 424.7 424.7 0 0 0 1263.6 667.1\" id=\"152,17\"></path><path d=\"M 1303.5 700.2 L 1302.1 701.5 A 424.7 424.7 0 0 0 1263.6 667.1\" id=\"152,16\"></path><path d=\"M 1317.7 715.3 L 1316.3 716.6 A 424.7 424.7 0 0 0 1263.6 667.1\" id=\"152,15\"></path><path d=\"M 1331.2 731.1 L 1329.7 732.3 A 424.7 424.7 0 0 0 1263.6 667.1\" id=\"152,14\"></path><path d=\"M 1343.9 747.6 L 1342.4 748.7 A 424.7 424.7 0 0 0 1263.6 667.1\" id=\"152,13\"></path><path d=\"M 1355.8 764.6 L 1354.2 765.7 A 424.7 424.7 0 0 0 1263.6 667.1\" id=\"152,12\"></path><path d=\"M 1366.8 782.2 L 1365.2 783.2 A 424.7 424.7 0 0 0 1263.6 667.1\" id=\"152,11\"></path><path d=\"M 1377.0 800.3 L 1375.3 801.2 A 424.7 424.7 0 0 0 1263.6 667.1\" id=\"152,10\"></path><path d=\"M 1386.3 818.9 L 1384.5 819.7 A 424.7 424.7 0 0 0 1263.6 667.1\" id=\"152,9\"></path><path d=\"M 1394.6 838.0 L 1392.9 838.7 A 424.7 424.7 0 0 0 1263.6 667.1\" id=\"152,8\"></path><path d=\"M 1402.0 857.4 L 1400.3 858.0 A 424.7 424.7 0 0 0 1263.6 667.1\" id=\"152,7\"></path><path d=\"M 1408.5 877.1 L 1406.7 877.7 A 424.7 424.7 0 0 0 1263.6 667.1\" id=\"152,6\"></path><path d=\"M 1414.0 897.1 L 1412.2 897.6 A 424.7 424.7 0 0 0 1263.6 667.1\" id=\"152,5\"></path><path d=\"M 1418.5 917.4 L 1416.7 917.8 A 424.7 424.7 0 0 0 1263.6 667.1\" id=\"152,4\"></path><path d=\"M 1422.1 937.9 L 1420.2 938.2 A 424.7 424.7 0 0 0 1263.6 667.1\" id=\"152,3\"></path><path d=\"M 1424.6 958.5 L 1422.7 958.7 A 424.7 424.7 0 0 0 1263.6 667.1\" id=\"152,2\"></path><path d=\"M 1426.1 979.2 L 1424.2 979.3 A 424.7 424.7 0 0 0 1263.6 667.1\" id=\"152,1\"></path><path d=\"M 1426.6 1000.0 L 1424.7 1000.0 A 424.7 424.7 0 0 0 1263.6 667.1\" id=\"152,0\"></path></g><g class=\"toytree-AlignEdges\" style=\"stroke:rgb(66.3%,66.3%,66.3%);stroke-dasharray:2, 4;stroke-linecap:round;stroke-opacity:1.0;stroke-width:2\"><path d=\"M 1426.6 1000.0 L 1426.6 1000.0\"></path><path d=\"M 1426.1 979.2 L 1426.1 979.2\"></path><path d=\"M 1424.6 958.5 L 1424.6 958.5\"></path><path d=\"M 1422.1 937.9 L 1422.1 937.9\"></path><path d=\"M 1418.5 917.4 L 1418.5 917.4\"></path><path d=\"M 1414.0 897.1 L 1414.0 897.1\"></path><path d=\"M 1408.5 877.1 L 1408.5 877.1\"></path><path d=\"M 1402.0 857.4 L 1402.0 857.4\"></path><path d=\"M 1394.6 838.0 L 1394.6 838.0\"></path><path d=\"M 1386.3 818.9 L 1386.3 818.9\"></path><path d=\"M 1377.0 800.3 L 1377.0 800.3\"></path><path d=\"M 1366.8 782.2 L 1366.8 782.2\"></path><path d=\"M 1355.8 764.6 L 1355.8 764.6\"></path><path d=\"M 1343.9 747.6 L 1343.9 747.6\"></path><path d=\"M 1331.2 731.1 L 1331.2 731.1\"></path><path d=\"M 1317.7 715.3 L 1317.7 715.3\"></path><path d=\"M 1303.5 700.2 L 1303.5 700.2\"></path><path d=\"M 1288.5 685.8 L 1288.5 685.8\"></path><path d=\"M 1272.9 672.1 L 1272.9 672.1\"></path><path d=\"M 1256.6 659.2 L 1256.6 659.2\"></path><path d=\"M 1239.7 647.1 L 1239.7 647.1\"></path><path d=\"M 1222.2 635.9 L 1222.2 635.9\"></path><path d=\"M 1204.2 625.5 L 1204.2 625.5\"></path><path d=\"M 1185.8 616.0 L 1185.8 616.0\"></path><path d=\"M 1166.8 607.4 L 1166.8 607.4\"></path><path d=\"M 1147.5 599.7 L 1147.5 599.7\"></path><path d=\"M 1127.9 593.0 L 1127.9 593.0\"></path><path d=\"M 1107.9 587.3 L 1107.9 587.3\"></path><path d=\"M 1087.7 582.5 L 1087.7 582.5\"></path><path d=\"M 1067.2 578.7 L 1067.2 578.7\"></path><path d=\"M 1046.7 576.0 L 1046.7 576.0\"></path><path d=\"M 1026.0 574.2 L 1026.0 574.2\"></path><path d=\"M 1005.2 573.4 L 1005.2 573.4\"></path><path d=\"M 984.4 573.7 L 984.4 573.7\"></path><path d=\"M 963.7 575.0 L 963.7 575.0\"></path><path d=\"M 943.0 577.2 L 943.0 577.2\"></path><path d=\"M 922.5 580.5 L 922.5 580.5\"></path><path d=\"M 902.2 584.8 L 902.2 584.8\"></path><path d=\"M 882.1 590.0 L 882.1 590.0\"></path><path d=\"M 862.3 596.3 L 862.3 596.3\"></path><path d=\"M 842.8 603.4 L 842.8 603.4\"></path><path d=\"M 823.6 611.6 L 823.6 611.6\"></path><path d=\"M 804.9 620.6 L 804.9 620.6\"></path><path d=\"M 786.7 630.6 L 786.7 630.6\"></path><path d=\"M 769.0 641.4 L 769.0 641.4\"></path><path d=\"M 751.8 653.1 L 751.8 653.1\"></path><path d=\"M 735.2 665.6 L 735.2 665.6\"></path><path d=\"M 719.2 678.8 L 719.2 678.8\"></path><path d=\"M 703.9 692.9 L 703.9 692.9\"></path><path d=\"M 689.3 707.7 L 689.3 707.7\"></path><path d=\"M 675.4 723.2 L 675.4 723.2\"></path><path d=\"M 662.3 739.3 L 662.3 739.3\"></path><path d=\"M 650.1 756.0 L 650.1 756.0\"></path><path d=\"M 638.6 773.4 L 638.6 773.4\"></path><path d=\"M 628.0 791.2 L 628.0 791.2\"></path><path d=\"M 618.3 809.6 L 618.3 809.6\"></path><path d=\"M 609.4 828.4 L 609.4 828.4\"></path><path d=\"M 601.5 847.6 L 601.5 847.6\"></path><path d=\"M 594.6 867.2 L 594.6 867.2\"></path><path d=\"M 588.6 887.1 L 588.6 887.1\"></path><path d=\"M 583.6 907.2 L 583.6 907.2\"></path><path d=\"M 579.6 927.6 L 579.6 927.6\"></path><path d=\"M 576.6 948.2 L 576.6 948.2\"></path><path d=\"M 574.5 968.9 L 574.5 968.9\"></path><path d=\"M 573.5 989.6 L 573.5 989.6\"></path><path d=\"M 573.5 1010.4 L 573.5 1010.4\"></path><path d=\"M 574.5 1031.1 L 574.5 1031.1\"></path><path d=\"M 576.6 1051.8 L 576.6 1051.8\"></path><path d=\"M 579.6 1072.4 L 579.6 1072.4\"></path><path d=\"M 583.6 1092.8 L 583.6 1092.8\"></path><path d=\"M 588.6 1112.9 L 588.6 1112.9\"></path><path d=\"M 594.6 1132.8 L 594.6 1132.8\"></path><path d=\"M 601.5 1152.4 L 601.5 1152.4\"></path><path d=\"M 609.4 1171.6 L 609.4 1171.6\"></path><path d=\"M 618.3 1190.4 L 618.3 1190.4\"></path><path d=\"M 628.0 1208.8 L 628.0 1208.8\"></path><path d=\"M 638.6 1226.6 L 638.6 1226.6\"></path><path d=\"M 650.1 1244.0 L 650.1 1244.0\"></path><path d=\"M 662.3 1260.7 L 662.3 1260.7\"></path><path d=\"M 675.4 1276.8 L 675.4 1276.8\"></path><path d=\"M 689.3 1292.3 L 689.3 1292.3\"></path><path d=\"M 703.9 1307.1 L 703.9 1307.1\"></path><path d=\"M 719.2 1321.2 L 719.2 1321.2\"></path><path d=\"M 735.2 1334.4 L 735.2 1334.4\"></path><path d=\"M 751.8 1346.9 L 751.8 1346.9\"></path><path d=\"M 769.0 1358.6 L 769.0 1358.6\"></path><path d=\"M 786.7 1369.4 L 786.7 1369.4\"></path><path d=\"M 804.9 1379.4 L 804.9 1379.4\"></path><path d=\"M 823.6 1388.4 L 823.6 1388.4\"></path><path d=\"M 842.8 1396.6 L 842.8 1396.6\"></path><path d=\"M 862.3 1403.7 L 862.3 1403.7\"></path><path d=\"M 882.1 1410.0 L 882.1 1410.0\"></path><path d=\"M 902.2 1415.2 L 902.2 1415.2\"></path><path d=\"M 922.5 1419.5 L 922.5 1419.5\"></path><path d=\"M 943.0 1422.8 L 943.0 1422.8\"></path><path d=\"M 963.7 1425.0 L 963.7 1425.0\"></path><path d=\"M 984.4 1426.3 L 984.4 1426.3\"></path><path d=\"M 1005.2 1426.6 L 1005.2 1426.6\"></path><path d=\"M 1026.0 1425.8 L 1026.0 1425.8\"></path><path d=\"M 1046.7 1424.0 L 1046.7 1424.0\"></path><path d=\"M 1067.2 1421.3 L 1067.2 1421.3\"></path><path d=\"M 1087.7 1417.5 L 1087.7 1417.5\"></path><path d=\"M 1107.9 1412.7 L 1107.9 1412.7\"></path><path d=\"M 1127.9 1407.0 L 1127.9 1407.0\"></path><path d=\"M 1147.5 1400.3 L 1147.5 1400.3\"></path><path d=\"M 1166.8 1392.6 L 1166.8 1392.6\"></path><path d=\"M 1185.8 1384.0 L 1185.8 1384.0\"></path><path d=\"M 1204.2 1374.5 L 1204.2 1374.5\"></path><path d=\"M 1222.2 1364.1 L 1222.2 1364.1\"></path><path d=\"M 1239.7 1352.9 L 1239.7 1352.9\"></path><path d=\"M 1256.6 1340.8 L 1256.6 1340.8\"></path><path d=\"M 1272.9 1327.9 L 1272.9 1327.9\"></path><path d=\"M 1288.5 1314.2 L 1288.5 1314.2\"></path><path d=\"M 1303.5 1299.8 L 1303.5 1299.8\"></path><path d=\"M 1317.7 1284.7 L 1317.7 1284.7\"></path><path d=\"M 1331.2 1268.9 L 1331.2 1268.9\"></path><path d=\"M 1343.9 1252.4 L 1343.9 1252.4\"></path><path d=\"M 1355.8 1235.4 L 1355.8 1235.4\"></path><path d=\"M 1366.8 1217.8 L 1366.8 1217.8\"></path><path d=\"M 1377.0 1199.7 L 1377.0 1199.7\"></path><path d=\"M 1386.3 1181.1 L 1386.3 1181.1\"></path><path d=\"M 1394.6 1162.0 L 1394.6 1162.0\"></path><path d=\"M 1402.0 1142.6 L 1402.0 1142.6\"></path><path d=\"M 1408.5 1122.9 L 1408.5 1122.9\"></path><path d=\"M 1414.0 1102.9 L 1414.0 1102.9\"></path><path d=\"M 1418.5 1082.6 L 1418.5 1082.6\"></path><path d=\"M 1422.1 1062.1 L 1422.1 1062.1\"></path><path d=\"M 1424.6 1041.5 L 1424.6 1041.5\"></path><path d=\"M 1426.1 1020.8 L 1426.1 1020.8\"></path></g><g class=\"toytree-NodeLabels\" style=\"fill:rgb(14.9%,14.9%,14.9%);fill-opacity:1.0;font-size:9px;stroke:none\"><g transform=\"translate(1424.10,1002.30)\"><text>0</text></g><g transform=\"translate(1423.60,981.53)\"><text>1</text></g><g transform=\"translate(1422.08,960.81)\"><text>2</text></g><g transform=\"translate(1419.56,940.19)\"><text>3</text></g><g transform=\"translate(1416.03,919.71)\"><text>4</text></g><g transform=\"translate(1411.51,899.43)\"><text>5</text></g><g transform=\"translate(1406.01,879.40)\"><text>6</text></g><g transform=\"translate(1399.55,859.66)\"><text>7</text></g><g transform=\"translate(1392.12,840.25)\"><text>8</text></g><g transform=\"translate(1383.77,821.23)\"><text>9</text></g><g transform=\"translate(1371.99,802.64)\"><text>10</text></g><g transform=\"translate(1361.82,784.52)\"><text>11</text></g><g transform=\"translate(1350.78,766.92)\"><text>12</text></g><g transform=\"translate(1338.90,749.88)\"><text>13</text></g><g transform=\"translate(1326.20,733.44)\"><text>14</text></g><g transform=\"translate(1312.72,717.63)\"><text>15</text></g><g transform=\"translate(1298.48,702.50)\"><text>16</text></g><g transform=\"translate(1283.52,688.08)\"><text>17</text></g><g transform=\"translate(1267.88,674.40)\"><text>18</text></g><g transform=\"translate(1251.59,661.51)\"><text>19</text></g><g transform=\"translate(1234.70,649.42)\"><text>20</text></g><g transform=\"translate(1217.23,638.17)\"><text>21</text></g><g transform=\"translate(1199.24,627.78)\"><text>22</text></g><g transform=\"translate(1180.76,618.28)\"><text>23</text></g><g transform=\"translate(1161.84,609.69)\"><text>24</text></g><g transform=\"translate(1142.53,602.03)\"><text>25</text></g><g transform=\"translate(1122.87,595.33)\"><text>26</text></g><g transform=\"translate(1102.90,589.58)\"><text>27</text></g><g transform=\"translate(1082.68,584.82)\"><text>28</text></g><g transform=\"translate(1062.24,581.05)\"><text>29</text></g><g transform=\"translate(1041.65,578.27)\"><text>30</text></g><g transform=\"translate(1020.95,576.50)\"><text>31</text></g><g transform=\"translate(1000.19,575.74)\"><text>32</text></g><g transform=\"translate(979.42,576.00)\"><text>33</text></g><g transform=\"translate(958.68,577.26)\"><text>34</text></g><g transform=\"translate(938.03,579.53)\"><text>35</text></g><g transform=\"translate(917.51,582.81)\"><text>36</text></g><g transform=\"translate(897.18,587.08)\"><text>37</text></g><g transform=\"translate(877.08,592.33)\"><text>38</text></g><g transform=\"translate(857.25,598.56)\"><text>39</text></g><g transform=\"translate(837.76,605.75)\"><text>40</text></g><g transform=\"translate(818.64,613.87)\"><text>41</text></g><g transform=\"translate(799.93,622.92)\"><text>42</text></g><g transform=\"translate(781.69,632.86)\"><text>43</text></g><g transform=\"translate(763.96,643.69)\"><text>44</text></g><g transform=\"translate(746.77,655.36)\"><text>45</text></g><g transform=\"translate(730.17,667.86)\"><text>46</text></g><g transform=\"translate(714.20,681.15)\"><text>47</text></g><g transform=\"translate(698.90,695.20)\"><text>48</text></g><g transform=\"translate(684.30,709.98)\"><text>49</text></g><g transform=\"translate(670.43,725.45)\"><text>50</text></g><g transform=\"translate(657.34,741.58)\"><text>51</text></g><g transform=\"translate(645.05,758.33)\"><text>52</text></g><g transform=\"translate(633.58,775.66)\"><text>53</text></g><g transform=\"translate(622.98,793.52)\"><text>54</text></g><g transform=\"translate(613.25,811.88)\"><text>55</text></g><g transform=\"translate(604.43,830.69)\"><text>56</text></g><g transform=\"translate(596.54,849.91)\"><text>57</text></g><g transform=\"translate(589.59,869.49)\"><text>58</text></g><g transform=\"translate(583.61,889.38)\"><text>59</text></g><g transform=\"translate(578.60,909.55)\"><text>60</text></g><g transform=\"translate(574.58,929.93)\"><text>61</text></g><g transform=\"translate(571.55,950.48)\"><text>62</text></g><g transform=\"translate(569.53,971.16)\"><text>63</text></g><g transform=\"translate(568.52,991.91)\"><text>64</text></g><g transform=\"translate(568.52,1012.69)\"><text>65</text></g><g transform=\"translate(569.53,1033.44)\"><text>66</text></g><g transform=\"translate(571.55,1054.12)\"><text>67</text></g><g transform=\"translate(574.58,1074.67)\"><text>68</text></g><g transform=\"translate(578.60,1095.05)\"><text>69</text></g><g transform=\"translate(583.61,1115.21)\"><text>70</text></g><g transform=\"translate(589.59,1135.11)\"><text>71</text></g><g transform=\"translate(596.54,1154.69)\"><text>72</text></g><g transform=\"translate(604.43,1173.91)\"><text>73</text></g><g transform=\"translate(613.25,1192.72)\"><text>74</text></g><g transform=\"translate(622.98,1211.08)\"><text>75</text></g><g transform=\"translate(633.58,1228.94)\"><text>76</text></g><g transform=\"translate(645.05,1246.27)\"><text>77</text></g><g transform=\"translate(657.34,1263.02)\"><text>78</text></g><g transform=\"translate(670.43,1279.15)\"><text>79</text></g><g transform=\"translate(684.30,1294.62)\"><text>80</text></g><g transform=\"translate(698.90,1309.40)\"><text>81</text></g><g transform=\"translate(714.20,1323.45)\"><text>82</text></g><g transform=\"translate(730.17,1336.74)\"><text>83</text></g><g transform=\"translate(746.77,1349.24)\"><text>84</text></g><g transform=\"translate(763.96,1360.91)\"><text>85</text></g><g transform=\"translate(781.69,1371.73)\"><text>86</text></g><g transform=\"translate(799.93,1381.68)\"><text>87</text></g><g transform=\"translate(818.64,1390.73)\"><text>88</text></g><g transform=\"translate(837.76,1398.85)\"><text>89</text></g><g transform=\"translate(857.25,1406.04)\"><text>90</text></g><g transform=\"translate(877.08,1412.27)\"><text>91</text></g><g transform=\"translate(897.18,1417.52)\"><text>92</text></g><g transform=\"translate(917.51,1421.79)\"><text>93</text></g><g transform=\"translate(938.03,1425.07)\"><text>94</text></g><g transform=\"translate(958.68,1427.34)\"><text>95</text></g><g transform=\"translate(979.42,1428.60)\"><text>96</text></g><g transform=\"translate(1000.19,1428.85)\"><text>97</text></g><g transform=\"translate(1020.95,1428.10)\"><text>98</text></g><g transform=\"translate(1041.65,1426.33)\"><text>99</text></g><g transform=\"translate(1059.74,1423.55)\"><text>100</text></g><g transform=\"translate(1080.17,1419.78)\"><text>101</text></g><g transform=\"translate(1100.40,1415.02)\"><text>102</text></g><g transform=\"translate(1120.36,1409.27)\"><text>103</text></g><g transform=\"translate(1140.03,1402.56)\"><text>104</text></g><g transform=\"translate(1159.34,1394.91)\"><text>105</text></g><g transform=\"translate(1178.26,1386.32)\"><text>106</text></g><g transform=\"translate(1196.74,1376.82)\"><text>107</text></g><g transform=\"translate(1214.73,1366.43)\"><text>108</text></g><g transform=\"translate(1232.20,1355.18)\"><text>109</text></g><g transform=\"translate(1249.09,1343.09)\"><text>110</text></g><g transform=\"translate(1265.38,1330.19)\"><text>111</text></g><g transform=\"translate(1281.02,1316.52)\"><text>112</text></g><g transform=\"translate(1295.98,1302.10)\"><text>113</text></g><g transform=\"translate(1310.22,1286.97)\"><text>114</text></g><g transform=\"translate(1323.70,1271.16)\"><text>115</text></g><g transform=\"translate(1336.40,1254.72)\"><text>116</text></g><g transform=\"translate(1348.28,1237.68)\"><text>117</text></g><g transform=\"translate(1359.32,1220.08)\"><text>118</text></g><g transform=\"translate(1369.49,1201.96)\"><text>119</text></g><g transform=\"translate(1378.76,1183.37)\"><text>120</text></g><g transform=\"translate(1387.12,1164.35)\"><text>121</text></g><g transform=\"translate(1394.54,1144.94)\"><text>122</text></g><g transform=\"translate(1401.01,1125.20)\"><text>123</text></g><g transform=\"translate(1406.51,1105.16)\"><text>124</text></g><g transform=\"translate(1411.03,1084.89)\"><text>125</text></g><g transform=\"translate(1414.55,1064.41)\"><text>126</text></g><g transform=\"translate(1417.08,1043.79)\"><text>127</text></g><g transform=\"translate(1418.59,1023.07)\"><text>128</text></g><g transform=\"translate(727.88,1336.48)\"><text>129</text></g><g transform=\"translate(816.14,1390.72)\"><text>130</text></g><g transform=\"translate(753.16,1354.64)\"><text>131</text></g><g transform=\"translate(838.11,1391.66)\"><text>132</text></g><g transform=\"translate(1168.85,1390.72)\"><text>133</text></g><g transform=\"translate(1186.78,1303.87)\"><text>134</text></g><g transform=\"translate(1288.34,1309.14)\"><text>135</text></g><g transform=\"translate(797.51,623.06)\"><text>136</text></g><g transform=\"translate(802.00,1361.96)\"><text>137</text></g><g transform=\"translate(915.01,1421.78)\"><text>138</text></g><g transform=\"translate(987.30,1428.85)\"><text>139</text></g><g transform=\"translate(1180.43,1379.03)\"><text>140</text></g><g transform=\"translate(1190.71,1286.59)\"><text>141</text></g><g transform=\"translate(1298.23,1297.06)\"><text>142</text></g><g transform=\"translate(1330.14,1263.01)\"><text>143</text></g><g transform=\"translate(753.62,650.63)\"><text>144</text></g><g transform=\"translate(582.29,1062.67)\"><text>145</text></g><g transform=\"translate(617.98,1200.64)\"><text>146</text></g><g transform=\"translate(859.71,1383.89)\"><text>147</text></g><g transform=\"translate(1002.57,1416.09)\"><text>148</text></g><g transform=\"translate(1049.46,1425.06)\"><text>149</text></g><g transform=\"translate(1141.18,1252.72)\"><text>150</text></g><g transform=\"translate(1308.29,1275.01)\"><text>151</text></g><g transform=\"translate(1256.13,669.35)\"><text>152</text></g><g transform=\"translate(725.97,674.01)\"><text>153</text></g><g transform=\"translate(661.29,733.44)\"><text>154</text></g><g transform=\"translate(578.39,931.02)\"><text>155</text></g><g transform=\"translate(584.77,1077.61)\"><text>156</text></g><g transform=\"translate(590.46,1144.94)\"><text>157</text></g><g transform=\"translate(631.43,1210.75)\"><text>158</text></g><g transform=\"translate(931.23,1393.71)\"><text>159</text></g><g transform=\"translate(1061.02,1400.36)\"><text>160</text></g><g transform=\"translate(1110.41,1412.26)\"><text>161</text></g><g transform=\"translate(1143.62,1216.26)\"><text>162</text></g><g transform=\"translate(1322.53,1252.36)\"><text>163</text></g><g transform=\"translate(877.45,596.13)\"><text>164</text></g><g transform=\"translate(654.76,748.03)\"><text>165</text></g><g transform=\"translate(577.88,1004.82)\"><text>166</text></g><g transform=\"translate(616.01,1176.00)\"><text>167</text></g><g transform=\"translate(995.17,1354.01)\"><text>168</text></g><g transform=\"translate(1097.86,1323.89)\"><text>169</text></g><g transform=\"translate(1168.24,1184.03)\"><text>170</text></g><g transform=\"translate(754.05,654.31)\"><text>171</text></g><g transform=\"translate(620.48,793.52)\"><text>172</text></g><g transform=\"translate(587.82,1092.44)\"><text>173</text></g><g transform=\"translate(654.85,1263.01)\"><text>174</text></g><g transform=\"translate(1032.84,1249.02)\"><text>175</text></g><g transform=\"translate(1185.42,1154.81)\"><text>176</text></g><g transform=\"translate(1359.09,1185.16)\"><text>177</text></g><g transform=\"translate(1403.88,1115.21)\"><text>178</text></g><g transform=\"translate(685.19,721.29)\"><text>179</text></g><g transform=\"translate(623.63,1175.21)\"><text>180</text></g><g transform=\"translate(1114.11,1208.92)\"><text>181</text></g><g transform=\"translate(1231.84,1110.96)\"><text>182</text></g><g transform=\"translate(1404.55,1099.37)\"><text>183</text></g><g transform=\"translate(593.69,941.54)\"><text>184</text></g><g transform=\"translate(1162.93,1155.59)\"><text>185</text></g><g transform=\"translate(1408.29,1081.72)\"><text>186</text></g><g transform=\"translate(667.72,1103.43)\"><text>187</text></g><g transform=\"translate(1133.21,1086.02)\"><text>188</text></g><g transform=\"translate(1394.27,1060.18)\"><text>189</text></g><g transform=\"translate(978.99,1116.81)\"><text>190</text></g><g transform=\"translate(1364.73,1038.10)\"><text>191</text></g><g transform=\"translate(992.49,1002.30)\"><text>192</text></g></g><g class=\"toytree-TipLabels\" style=\"fill:rgb(14.9%,14.9%,14.9%);fill-opacity:1.0;font-family:helvetica;font-size:18px;font-weight:normal;stroke:none;white-space:pre\"><g transform=\"translate(1426.60,1000.00)rotate(-0)\"><text style=\"\" x=\"15.00\" y=\"4.60\">Yersinia_pestis_CO92</text></g><g transform=\"translate(1426.10,979.23)rotate(-3)\"><text style=\"\" x=\"15.00\" y=\"4.60\">Yersinia_pestis_biovar_Microtus_91001</text></g><g transform=\"translate(1424.58,958.51)rotate(-6)\"><text style=\"\" x=\"15.00\" y=\"4.60\">Yersinia_pestis_FDAARGOS_602</text></g><g transform=\"translate(1422.06,937.89)rotate(-8)\"><text style=\"\" x=\"15.00\" y=\"4.60\">Yersinia_pestis_FDAARGOS_603</text></g><g transform=\"translate(1418.53,917.41)rotate(-11)\"><text style=\"\" x=\"15.00\" y=\"4.60\">Yersinia_pestis_KIM10</text></g><g transform=\"translate(1414.02,897.14)rotate(-14)\"><text style=\"\" x=\"15.00\" y=\"4.60\">Yersinia_pestis_Cadman</text></g><g transform=\"translate(1408.52,877.10)rotate(-17)\"><text style=\"\" x=\"15.00\" y=\"4.60\">Yersinia_pestis_A1122</text></g><g transform=\"translate(1402.05,857.36)rotate(-20)\"><text style=\"\" x=\"15.00\" y=\"4.60\">Yersinia_pestis_M-1770</text></g><g transform=\"translate(1394.63,837.95)rotate(-22)\"><text style=\"\" x=\"15.00\" y=\"4.60\">Yersinia_pestis_C-792</text></g><g transform=\"translate(1386.27,818.93)rotate(-25)\"><text style=\"\" x=\"15.00\" y=\"4.60\">Yersinia_pestis_14D</text></g><g transform=\"translate(1376.99,800.34)rotate(-28)\"><text style=\"\" x=\"15.00\" y=\"4.60\">Yersinia_pestis_biovar_Medievalis_Harbin_35</text></g><g transform=\"translate(1366.83,782.22)rotate(-31)\"><text style=\"\" x=\"15.00\" y=\"4.60\">Yersinia_pestis_EV_NIIEG</text></g><g transform=\"translate(1355.79,764.62)rotate(-33)\"><text style=\"\" x=\"15.00\" y=\"4.60\">Yersinia_pestis_Z176003</text></g><g transform=\"translate(1343.90,747.58)rotate(-36)\"><text style=\"\" x=\"15.00\" y=\"4.60\">Yersinia_pestis_CO92</text></g><g transform=\"translate(1331.21,731.14)rotate(-39)\"><text style=\"\" x=\"15.00\" y=\"4.60\">Yersinia_pestis_M2085</text></g><g transform=\"translate(1317.72,715.33)rotate(-42)\"><text style=\"\" x=\"15.00\" y=\"4.60\">Yersinia_pestis_M-1482</text></g><g transform=\"translate(1303.49,700.20)rotate(-45)\"><text style=\"\" x=\"15.00\" y=\"4.60\">Yersinia_pestis_KM_567</text></g><g transform=\"translate(1288.53,685.78)rotate(-47)\"><text style=\"\" x=\"15.00\" y=\"4.60\">Yersinia_pestis_C-783</text></g><g transform=\"translate(1272.89,672.11)rotate(-50)\"><text style=\"\" x=\"15.00\" y=\"4.60\">Yersinia_pestis_M-1974</text></g><g transform=\"translate(1256.60,659.21)rotate(-53)\"><text style=\"\" x=\"15.00\" y=\"4.60\">Yersinia_pestis_M2086</text></g><g transform=\"translate(1239.70,647.12)rotate(-56)\"><text style=\"\" x=\"15.00\" y=\"4.60\">Yersinia_pestis_I-1252</text></g><g transform=\"translate(1222.24,635.87)rotate(-59)\"><text style=\"\" x=\"15.00\" y=\"4.60\">Yersinia_pestis_M2029</text></g><g transform=\"translate(1204.24,625.48)rotate(-61)\"><text style=\"\" x=\"15.00\" y=\"4.60\">Yersinia_pestis_C-781</text></g><g transform=\"translate(1185.77,615.98)rotate(-64)\"><text style=\"\" x=\"15.00\" y=\"4.60\">Yersinia_pestis_2944</text></g><g transform=\"translate(1166.85,607.39)rotate(-67)\"><text style=\"\" x=\"15.00\" y=\"4.60\">Yersinia_pestis_Pestoides_B</text></g><g transform=\"translate(1147.53,599.73)rotate(-70)\"><text style=\"\" x=\"15.00\" y=\"4.60\">Yersinia_pestis_Nicholisk_41</text></g><g transform=\"translate(1127.87,593.03)rotate(-73)\"><text style=\"\" x=\"15.00\" y=\"4.60\">Yersinia_pestis_Dodson</text></g><g transform=\"translate(1107.90,587.28)rotate(-75)\"><text style=\"\" x=\"15.00\" y=\"4.60\">Yersinia_pestis_A1122</text></g><g transform=\"translate(1087.68,582.52)rotate(-78)\"><text style=\"\" x=\"15.00\" y=\"4.60\">Yersinia_pestis_El_Dorado</text></g><g transform=\"translate(1067.25,578.75)rotate(-81)\"><text style=\"\" x=\"15.00\" y=\"4.60\">Yersinia_pestis_Shasta</text></g><g transform=\"translate(1046.66,575.97)rotate(-84)\"><text style=\"\" x=\"15.00\" y=\"4.60\">Yersinia_pestis_PBM19</text></g><g transform=\"translate(1025.96,574.20)rotate(-87)\"><text style=\"\" x=\"15.00\" y=\"4.60\">Yersinia_pestis_SCPM-O-B-5942_I-2638</text></g><g transform=\"translate(1005.19,573.44)rotate(-89)\"><text style=\"\" x=\"15.00\" y=\"4.60\">Yersinia_pestis_SCPM-O-B-6291_C-25</text></g><g transform=\"translate(984.42,573.70)rotate(88)\"><text style=\"\" x=\"-508.16\" y=\"4.60\">Yersinia_pestis_sub_pestis_bv._Medievalis_SCPM-O-B-6530</text></g><g transform=\"translate(963.68,574.96)rotate(85)\"><text style=\"\" x=\"-344.11\" y=\"4.60\">Yersinia_pestis_SCPM-O-B-5935_I-1996</text></g><g transform=\"translate(943.03,577.23)rotate(82)\"><text style=\"\" x=\"-350.09\" y=\"4.60\">Yersinia_pestis_SCPM-O-DNA-18_I-3113</text></g><g transform=\"translate(922.51,580.51)rotate(80)\"><text style=\"\" x=\"-323.11\" y=\"4.60\">Yersinia_pestis_SCPM-O-B-6899_231</text></g><g transform=\"translate(902.18,584.78)rotate(77)\"><text style=\"\" x=\"-224.09\" y=\"4.60\">Yersinia_pestis_Nepal516</text></g><g transform=\"translate(882.08,590.03)rotate(74)\"><text style=\"\" x=\"-187.08\" y=\"4.60\">Yersinia_pestis_1413</text></g><g transform=\"translate(862.26,596.26)rotate(71)\"><text style=\"\" x=\"-187.08\" y=\"4.60\">Yersinia_pestis_3067</text></g><g transform=\"translate(842.76,603.45)rotate(68)\"><text style=\"\" x=\"-187.08\" y=\"4.60\">Yersinia_pestis_3770</text></g><g transform=\"translate(823.64,611.57)rotate(66)\"><text style=\"\" x=\"-187.08\" y=\"4.60\">Yersinia_pestis_8787</text></g><g transform=\"translate(804.94,620.62)rotate(63)\"><text style=\"\" x=\"-187.08\" y=\"4.60\">Yersinia_pestis_1522</text></g><g transform=\"translate(786.70,630.56)rotate(60)\"><text style=\"\" x=\"-187.08\" y=\"4.60\">Yersinia_pestis_1412</text></g><g transform=\"translate(768.96,641.39)rotate(57)\"><text style=\"\" x=\"-247.09\" y=\"4.60\">Yersinia_pestis_Pestoides_F</text></g><g transform=\"translate(751.78,653.06)rotate(54)\"><text style=\"\" x=\"-250.10\" y=\"4.60\">Yersinia_pestis_Pestoides_G</text></g><g transform=\"translate(735.18,665.56)rotate(52)\"><text style=\"\" x=\"-247.09\" y=\"4.60\">Yersinia_pestis_Pestoides_F</text></g><g transform=\"translate(719.21,678.85)rotate(49)\"><text style=\"\" x=\"-196.06\" y=\"4.60\">Yersinia_pestis_C-830</text></g><g transform=\"translate(703.90,692.90)rotate(46)\"><text style=\"\" x=\"-239.12\" y=\"4.60\">Yersinia_pestis_S19960127</text></g><g transform=\"translate(689.30,707.68)rotate(43)\"><text style=\"\" x=\"-220.09\" y=\"4.60\">Yersinia_pestis_D106004</text></g><g transform=\"translate(675.44,723.15)rotate(40)\"><text style=\"\" x=\"-203.08\" y=\"4.60\">Yersinia_pestis_Angola</text></g><g transform=\"translate(662.34,739.28)rotate(38)\"><text style=\"\" x=\"-203.08\" y=\"4.60\">Yersinia_pestis_Angola</text></g><g transform=\"translate(650.05,756.03)rotate(35)\"><text style=\"\" x=\"-220.07\" y=\"4.60\">Yersinia_pestis_Harbin35</text></g><g transform=\"translate(638.59,773.36)rotate(32)\"><text style=\"\" x=\"-288.10\" y=\"4.60\">Yersinia_pestis_FDAARGOS_601</text></g><g transform=\"translate(627.98,791.22)rotate(29)\"><text style=\"\" x=\"-208.09\" y=\"4.60\">Yersinia_pestis_Antiqua</text></g><g transform=\"translate(618.26,809.58)rotate(27)\"><text style=\"\" x=\"-208.09\" y=\"4.60\">Yersinia_pestis_Antiqua</text></g><g transform=\"translate(609.44,828.39)rotate(24)\"><text style=\"\" x=\"-355.13\" y=\"4.60\">Yersinia_pseudotuberculosis_NCTC10217</text></g><g transform=\"translate(601.54,847.61)rotate(21)\"><text style=\"\" x=\"-396.15\" y=\"4.60\">Yersinia_pseudotuberculosis_FDAARGOS_581</text></g><g transform=\"translate(594.60,867.19)rotate(18)\"><text style=\"\" x=\"-396.15\" y=\"4.60\">Yersinia_pseudotuberculosis_FDAARGOS_582</text></g><g transform=\"translate(588.61,887.08)rotate(15)\"><text style=\"\" x=\"-396.15\" y=\"4.60\">Yersinia_pseudotuberculosis_FDAARGOS_583</text></g><g transform=\"translate(583.60,907.25)rotate(13)\"><text style=\"\" x=\"-245.09\" y=\"4.60\">Yersinia_pseudotuberculosis</text></g><g transform=\"translate(579.58,927.63)rotate(10)\"><text style=\"\" x=\"-332.16\" y=\"4.60\">Yersinia_pseudotuberculosis_IP_32953</text></g><g transform=\"translate(576.55,948.18)rotate(7)\"><text style=\"\" x=\"-391.20\" y=\"4.60\">Yersinia_pseudotuberculosis_PA3606_Pa3606</text></g><g transform=\"translate(574.53,968.86)rotate(4)\"><text style=\"\" x=\"-289.12\" y=\"4.60\">Yersinia_pseudotuberculosis_PB1</text></g><g transform=\"translate(573.52,989.61)rotate(1)\"><text style=\"\" x=\"-289.12\" y=\"4.60\">Yersinia_pseudotuberculosis_EP2</text></g><g transform=\"translate(573.52,1010.39)rotate(-1)\"><text style=\"\" x=\"-303.11\" y=\"4.60\">Yersinia_pseudotuberculosis_MD67</text></g><g transform=\"translate(574.53,1031.14)rotate(-4)\"><text style=\"\" x=\"-409.22\" y=\"4.60\">Yersinia_pseudotuberculosis_IP_32953_IP32953</text></g><g transform=\"translate(576.55,1051.82)rotate(-7)\"><text style=\"\" x=\"-396.15\" y=\"4.60\">Yersinia_pseudotuberculosis_FDAARGOS_665</text></g><g transform=\"translate(579.58,1072.37)rotate(-10)\"><text style=\"\" x=\"-354.14\" y=\"4.60\">Yersinia_pseudotuberculosis_ATCC_6904</text></g><g transform=\"translate(583.60,1092.75)rotate(-13)\"><text style=\"\" x=\"-332.16\" y=\"4.60\">Yersinia_pseudotuberculosis_IP_31758</text></g><g transform=\"translate(588.61,1112.92)rotate(-15)\"><text style=\"\" x=\"-349.17\" y=\"4.60\">Yersinia_pseudotuberculosis_IP2666pIB1</text></g><g transform=\"translate(594.60,1132.81)rotate(-18)\"><text style=\"\" x=\"-396.15\" y=\"4.60\">Yersinia_pseudotuberculosis_FDAARGOS_584</text></g><g transform=\"translate(601.54,1152.39)rotate(-21)\"><text style=\"\" x=\"-396.15\" y=\"4.60\">Yersinia_pseudotuberculosis_FDAARGOS_579</text></g><g transform=\"translate(609.44,1171.61)rotate(-24)\"><text style=\"\" x=\"-294.13\" y=\"4.60\">Yersinia_pseudotuberculosis_YPIII</text></g><g transform=\"translate(618.26,1190.42)rotate(-27)\"><text style=\"\" x=\"-355.13\" y=\"4.60\">Yersinia_pseudotuberculosis_NCTC10275</text></g><g transform=\"translate(627.98,1208.78)rotate(-29)\"><text style=\"\" x=\"-265.11\" y=\"4.60\">Yersinia_pseudotuberculosis_1</text></g><g transform=\"translate(638.59,1226.64)rotate(-32)\"><text style=\"\" x=\"-345.12\" y=\"4.60\">Yersinia_pseudotuberculosis_NCTC8480</text></g><g transform=\"translate(650.05,1243.97)rotate(-35)\"><text style=\"\" x=\"-345.12\" y=\"4.60\">Yersinia_pseudotuberculosis_NCTC3571</text></g><g transform=\"translate(662.34,1260.72)rotate(-38)\"><text style=\"\" x=\"-396.15\" y=\"4.60\">Yersinia_pseudotuberculosis_FDAARGOS_580</text></g><g transform=\"translate(675.44,1276.85)rotate(-40)\"><text style=\"\" x=\"-396.15\" y=\"4.60\">Yersinia_pseudotuberculosis_FDAARGOS_342</text></g><g transform=\"translate(689.30,1292.32)rotate(-43)\"><text style=\"\" x=\"-239.05\" y=\"4.60\">Yersinia_similis_Y_sim_228</text></g><g transform=\"translate(703.90,1307.10)rotate(-46)\"><text style=\"\" x=\"-240.09\" y=\"4.60\">Yersinia_enterocolitica_YE3</text></g><g transform=\"translate(719.21,1321.15)rotate(-49)\"><text style=\"\" x=\"-240.09\" y=\"4.60\">Yersinia_enterocolitica_YE1</text></g><g transform=\"translate(735.18,1334.44)rotate(-52)\"><text style=\"\" x=\"-240.09\" y=\"4.60\">Yersinia_enterocolitica_YE5</text></g><g transform=\"translate(751.78,1346.94)rotate(-54)\"><text style=\"\" x=\"-240.09\" y=\"4.60\">Yersinia_enterocolitica_YE6</text></g><g transform=\"translate(768.96,1358.61)rotate(-57)\"><text style=\"\" x=\"-240.09\" y=\"4.60\">Yersinia_enterocolitica_YE7</text></g><g transform=\"translate(786.70,1369.44)rotate(-60)\"><text style=\"\" x=\"-260.11\" y=\"4.60\">Yersinia_enterocolitica_YE165</text></g><g transform=\"translate(804.94,1379.38)rotate(-63)\"><text style=\"\" x=\"-490.20\" y=\"4.60\">Yersinia_enterocolitica_sub_palearctica_105.5R_r_105.5Rr</text></g><g transform=\"translate(823.64,1388.43)rotate(-66)\"><text style=\"\" x=\"-295.12\" y=\"4.60\">Yersinia_enterocolitica_KNG22703</text></g><g transform=\"translate(842.76,1396.55)rotate(-68)\"><text style=\"\" x=\"-272.11\" y=\"4.60\">Yersinia_enterocolitica_2516-87</text></g><g transform=\"translate(862.26,1403.74)rotate(-71)\"><text style=\"\" x=\"-357.13\" y=\"4.60\">Yersinia_enterocolitica_FDAARGOS_1090</text></g><g transform=\"translate(882.08,1409.97)rotate(-74)\"><text style=\"\" x=\"-364.15\" y=\"4.60\">Yersinia_enterocolitica_sub_palearctica_Y1</text></g><g transform=\"translate(902.18,1415.22)rotate(-77)\"><text style=\"\" x=\"-442.16\" y=\"4.60\">Yersinia_enterocolitica_sub_palearctica_NCTC13769</text></g><g transform=\"translate(922.51,1419.49)rotate(-80)\"><text style=\"\" x=\"-461.17\" y=\"4.60\">Yersinia_enterocolitica_sub_enterocolitica_NCTC13629</text></g><g transform=\"translate(943.03,1422.77)rotate(-82)\"><text style=\"\" x=\"-374.15\" y=\"4.60\">Yersinia_enterocolitica_sub_palearctica_Y11</text></g><g transform=\"translate(963.68,1425.04)rotate(-85)\"><text style=\"\" x=\"-357.13\" y=\"4.60\">Yersinia_enterocolitica_FDAARGOS_1082</text></g><g transform=\"translate(984.42,1426.30)rotate(-88)\"><text style=\"\" x=\"-235.07\" y=\"4.60\">Yersinia_enterocolitica_WA</text></g><g transform=\"translate(1005.19,1426.56)rotate(-271)\"><text style=\"\" x=\"15.00\" y=\"4.60\">Yersinia_enterocolitica_sub_enterocolitica_NCTC12982</text></g><g transform=\"translate(1025.96,1425.80)rotate(-273)\"><text style=\"\" x=\"15.00\" y=\"4.60\">Yersinia_enterocolitica_sub_enterocolitica_8081</text></g><g transform=\"translate(1046.66,1424.03)rotate(-276)\"><text style=\"\" x=\"15.00\" y=\"4.60\">Yersinia_enterocolitica_FORC_002</text></g><g transform=\"translate(1067.25,1421.25)rotate(-279)\"><text style=\"\" x=\"15.00\" y=\"4.60\">Yersinia_enterocolitica_FORC_002</text></g><g transform=\"translate(1087.68,1417.48)rotate(-282)\"><text style=\"\" x=\"15.00\" y=\"4.60\">Yersinia_enterocolitica_type_O_5_YE5303</text></g><g transform=\"translate(1107.90,1412.72)rotate(-285)\"><text style=\"\" x=\"15.00\" y=\"4.60\">Yersinia_kristensenii_Y231</text></g><g transform=\"translate(1127.87,1406.97)rotate(-287)\"><text style=\"\" x=\"15.00\" y=\"4.60\">Yersinia_frederiksenii_Y225</text></g><g transform=\"translate(1147.53,1400.27)rotate(-290)\"><text style=\"\" x=\"15.00\" y=\"4.60\">Yersinia_kristensenii_2012N-4030</text></g><g transform=\"translate(1166.85,1392.61)rotate(-293)\"><text style=\"\" x=\"15.00\" y=\"4.60\">Yersinia_massiliensis_GTA</text></g><g transform=\"translate(1185.77,1384.02)rotate(-296)\"><text style=\"\" x=\"15.00\" y=\"4.60\">Yersinia_massiliensis_2011N-4075</text></g><g transform=\"translate(1204.24,1374.52)rotate(-299)\"><text style=\"\" x=\"15.00\" y=\"4.60\">Yersinia_frederiksenii_FDAARGOS_417</text></g><g transform=\"translate(1222.24,1364.13)rotate(-301)\"><text style=\"\" x=\"15.00\" y=\"4.60\">Yersinia_mollaretii_ATCC_43969</text></g><g transform=\"translate(1239.70,1352.88)rotate(-304)\"><text style=\"\" x=\"15.00\" y=\"4.60\">Yersinia_aleksiciae_159</text></g><g transform=\"translate(1256.60,1340.79)rotate(-307)\"><text style=\"\" x=\"15.00\" y=\"4.60\">Yersinia_KBS0713</text></g><g transform=\"translate(1272.89,1327.89)rotate(-310)\"><text style=\"\" x=\"15.00\" y=\"4.60\">Yersinia_rohdei_YRA</text></g><g transform=\"translate(1288.53,1314.22)rotate(-313)\"><text style=\"\" x=\"15.00\" y=\"4.60\">Yersinia_intermedia_FDAARGOS_729</text></g><g transform=\"translate(1303.49,1299.80)rotate(-315)\"><text style=\"\" x=\"15.00\" y=\"4.60\">Yersinia_intermedia_FDAARGOS_730</text></g><g transform=\"translate(1317.72,1284.67)rotate(-318)\"><text style=\"\" x=\"15.00\" y=\"4.60\">Yersinia_intermedia_NCTC11469</text></g><g transform=\"translate(1331.21,1268.86)rotate(-321)\"><text style=\"\" x=\"15.00\" y=\"4.60\">Yersinia_intermedia_FDAARGOS_358</text></g><g transform=\"translate(1343.90,1252.42)rotate(-324)\"><text style=\"\" x=\"15.00\" y=\"4.60\">Yersinia_FDAARGOS_228</text></g><g transform=\"translate(1355.79,1235.38)rotate(-327)\"><text style=\"\" x=\"15.00\" y=\"4.60\">Yersinia_intermedia_Y228</text></g><g transform=\"translate(1366.83,1217.78)rotate(-329)\"><text style=\"\" x=\"15.00\" y=\"4.60\">Yersinia_canariae_NCTC_14382</text></g><g transform=\"translate(1376.99,1199.66)rotate(-332)\"><text style=\"\" x=\"15.00\" y=\"4.60\">Yersinia_hibernica_CFS1934</text></g><g transform=\"translate(1386.27,1181.07)rotate(-335)\"><text style=\"\" x=\"15.00\" y=\"4.60\">Yersinia_enterocolitica_LC20</text></g><g transform=\"translate(1394.63,1162.05)rotate(-338)\"><text style=\"\" x=\"15.00\" y=\"4.60\">Yersinia_frederiksenii_FDAARGOS_418</text></g><g transform=\"translate(1402.05,1142.64)rotate(-340)\"><text style=\"\" x=\"15.00\" y=\"4.60\">Yersinia_aldovae_670-83</text></g><g transform=\"translate(1408.52,1122.90)rotate(-343)\"><text style=\"\" x=\"15.00\" y=\"4.60\">Yersinia_ruckeri_QMA0440</text></g><g transform=\"translate(1414.02,1102.86)rotate(-346)\"><text style=\"\" x=\"15.00\" y=\"4.60\">Yersinia_ruckeri_KMM821</text></g><g transform=\"translate(1418.53,1082.59)rotate(-349)\"><text style=\"\" x=\"15.00\" y=\"4.60\">Yersinia_ruckeri_Big_Creek_74</text></g><g transform=\"translate(1422.06,1062.11)rotate(-352)\"><text style=\"\" x=\"15.00\" y=\"4.60\">Yersinia_ruckeri_NHV_3758</text></g><g transform=\"translate(1424.58,1041.49)rotate(-354)\"><text style=\"\" x=\"15.00\" y=\"4.60\">Yersinia_ruckeri_SC09</text></g><g transform=\"translate(1426.10,1020.77)rotate(-357)\"><text style=\"\" x=\"15.00\" y=\"4.60\">Yersinia_ruckeri_YRB</text></g></g></g></g></g></svg><div class=\"toyplot-behavior\"><script>(function()\n",
       "{\n",
       "var modules={};\n",
       "})();</script></div></div>"
      ]
     },
     "metadata": {},
     "output_type": "display_data"
    }
   ],
   "source": [
    "canvas, axes, mark = yers.draw(tip_labels_align=True,\n",
    "                               width=2000,\n",
    "                               height=1000,\n",
    "                               layout='c',\n",
    "                               edge_type='p',\n",
    "                               #tree_style='p',\n",
    "                               node_labels=True,\n",
    "                               tip_labels=tip_names_yers,\n",
    "                              \n",
    "                               tip_labels_style={\"font-size\": \"18px\",});"
   ]
  },
  {
   "cell_type": "code",
   "execution_count": 89,
   "id": "9f57316e",
   "metadata": {},
   "outputs": [],
   "source": [
    "# for creating scientific figures SVG is often the most useful format\n",
    "toyplot.svg.render(canvas, \"../raw_data/yersinia.svg\")"
   ]
  },
  {
   "cell_type": "code",
   "execution_count": null,
   "id": "f33b93e2",
   "metadata": {},
   "outputs": [],
   "source": []
  }
 ],
 "metadata": {
  "kernelspec": {
   "display_name": "Python 3 (ipykernel)",
   "language": "python",
   "name": "python3"
  },
  "language_info": {
   "codemirror_mode": {
    "name": "ipython",
    "version": 3
   },
   "file_extension": ".py",
   "mimetype": "text/x-python",
   "name": "python",
   "nbconvert_exporter": "python",
   "pygments_lexer": "ipython3",
   "version": "3.7.7"
  },
  "toc": {
   "base_numbering": 1,
   "nav_menu": {},
   "number_sections": true,
   "sideBar": true,
   "skip_h1_title": false,
   "title_cell": "Table of Contents",
   "title_sidebar": "Contents",
   "toc_cell": false,
   "toc_position": {
    "height": "calc(100% - 180px)",
    "left": "10px",
    "top": "150px",
    "width": "288px"
   },
   "toc_section_display": true,
   "toc_window_display": true
  }
 },
 "nbformat": 4,
 "nbformat_minor": 5
}
